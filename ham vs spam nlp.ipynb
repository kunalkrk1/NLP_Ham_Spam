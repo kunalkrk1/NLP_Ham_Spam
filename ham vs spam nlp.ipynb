{
 "cells": [
  {
   "cell_type": "code",
   "execution_count": 233,
   "id": "13452c1c",
   "metadata": {},
   "outputs": [],
   "source": [
    "import numpy as np\n",
    "import pandas as pd\n",
    "import matplotlib.pyplot as plt\n",
    "import seaborn as sns\n",
    "from sklearn import metrics\n",
    "from sklearn.model_selection import train_test_split\n",
    "import spacy\n",
    "%matplotlib inline"
   ]
  },
  {
   "cell_type": "code",
   "execution_count": 234,
   "id": "a73d94ee",
   "metadata": {},
   "outputs": [],
   "source": [
    "import os\n",
    "ddir = r\"E:\\Dataset\""
   ]
  },
  {
   "cell_type": "code",
   "execution_count": 235,
   "id": "2221f00d",
   "metadata": {},
   "outputs": [],
   "source": [
    "nlp = spacy.load('en_core_web_sm')"
   ]
  },
  {
   "cell_type": "code",
   "execution_count": 236,
   "id": "ad0726a3",
   "metadata": {},
   "outputs": [],
   "source": [
    "# ! python -m spacy download en_core_web_sm"
   ]
  },
  {
   "cell_type": "code",
   "execution_count": 237,
   "id": "4a38da31",
   "metadata": {
    "scrolled": false
   },
   "outputs": [
    {
     "data": {
      "text/html": [
       "<div>\n",
       "<style scoped>\n",
       "    .dataframe tbody tr th:only-of-type {\n",
       "        vertical-align: middle;\n",
       "    }\n",
       "\n",
       "    .dataframe tbody tr th {\n",
       "        vertical-align: top;\n",
       "    }\n",
       "\n",
       "    .dataframe thead th {\n",
       "        text-align: right;\n",
       "    }\n",
       "</style>\n",
       "<table border=\"1\" class=\"dataframe\">\n",
       "  <thead>\n",
       "    <tr style=\"text-align: right;\">\n",
       "      <th></th>\n",
       "      <th>label</th>\n",
       "      <th>message</th>\n",
       "    </tr>\n",
       "  </thead>\n",
       "  <tbody>\n",
       "    <tr>\n",
       "      <th>0</th>\n",
       "      <td>ham</td>\n",
       "      <td>Go until jurong point, crazy.. Available only ...</td>\n",
       "    </tr>\n",
       "    <tr>\n",
       "      <th>1</th>\n",
       "      <td>ham</td>\n",
       "      <td>Ok lar... Joking wif u oni...</td>\n",
       "    </tr>\n",
       "    <tr>\n",
       "      <th>2</th>\n",
       "      <td>spam</td>\n",
       "      <td>Free entry in 2 a wkly comp to win FA Cup fina...</td>\n",
       "    </tr>\n",
       "    <tr>\n",
       "      <th>3</th>\n",
       "      <td>ham</td>\n",
       "      <td>U dun say so early hor... U c already then say...</td>\n",
       "    </tr>\n",
       "    <tr>\n",
       "      <th>4</th>\n",
       "      <td>ham</td>\n",
       "      <td>Nah I don't think he goes to usf, he lives aro...</td>\n",
       "    </tr>\n",
       "    <tr>\n",
       "      <th>...</th>\n",
       "      <td>...</td>\n",
       "      <td>...</td>\n",
       "    </tr>\n",
       "    <tr>\n",
       "      <th>5567</th>\n",
       "      <td>spam</td>\n",
       "      <td>This is the 2nd time we have tried 2 contact u...</td>\n",
       "    </tr>\n",
       "    <tr>\n",
       "      <th>5568</th>\n",
       "      <td>ham</td>\n",
       "      <td>Will ü b going to esplanade fr home?</td>\n",
       "    </tr>\n",
       "    <tr>\n",
       "      <th>5569</th>\n",
       "      <td>ham</td>\n",
       "      <td>Pity, * was in mood for that. So...any other s...</td>\n",
       "    </tr>\n",
       "    <tr>\n",
       "      <th>5570</th>\n",
       "      <td>ham</td>\n",
       "      <td>The guy did some bitching but I acted like i'd...</td>\n",
       "    </tr>\n",
       "    <tr>\n",
       "      <th>5571</th>\n",
       "      <td>ham</td>\n",
       "      <td>Rofl. Its true to its name</td>\n",
       "    </tr>\n",
       "  </tbody>\n",
       "</table>\n",
       "<p>5572 rows × 2 columns</p>\n",
       "</div>"
      ],
      "text/plain": [
       "     label                                            message\n",
       "0      ham  Go until jurong point, crazy.. Available only ...\n",
       "1      ham                      Ok lar... Joking wif u oni...\n",
       "2     spam  Free entry in 2 a wkly comp to win FA Cup fina...\n",
       "3      ham  U dun say so early hor... U c already then say...\n",
       "4      ham  Nah I don't think he goes to usf, he lives aro...\n",
       "...    ...                                                ...\n",
       "5567  spam  This is the 2nd time we have tried 2 contact u...\n",
       "5568   ham               Will ü b going to esplanade fr home?\n",
       "5569   ham  Pity, * was in mood for that. So...any other s...\n",
       "5570   ham  The guy did some bitching but I acted like i'd...\n",
       "5571   ham                         Rofl. Its true to its name\n",
       "\n",
       "[5572 rows x 2 columns]"
      ]
     },
     "execution_count": 237,
     "metadata": {},
     "output_type": "execute_result"
    }
   ],
   "source": [
    "df = pd.read_csv(os.path.join(ddir, 'SMSSpamCollection'),sep=\"\\t\",names=[\"label\",\"message\"])\n",
    "df"
   ]
  },
  {
   "cell_type": "code",
   "execution_count": 238,
   "id": "5ef98ab3",
   "metadata": {},
   "outputs": [],
   "source": [
    "from sklearn.preprocessing import LabelEncoder"
   ]
  },
  {
   "cell_type": "code",
   "execution_count": 239,
   "id": "7fcfcdc5",
   "metadata": {},
   "outputs": [],
   "source": [
    "Lb = LabelEncoder()"
   ]
  },
  {
   "cell_type": "code",
   "execution_count": null,
   "id": "422ebcb8",
   "metadata": {},
   "outputs": [],
   "source": []
  },
  {
   "cell_type": "code",
   "execution_count": 240,
   "id": "c0e3bc17",
   "metadata": {},
   "outputs": [],
   "source": [
    "df.label = Lb.fit_transform(df.label)\n",
    "# 0 - ham and 1 - spam"
   ]
  },
  {
   "cell_type": "code",
   "execution_count": 241,
   "id": "28ff9cda",
   "metadata": {},
   "outputs": [
    {
     "data": {
      "text/plain": [
       "array(['ham', 'spam'], dtype=object)"
      ]
     },
     "execution_count": 241,
     "metadata": {},
     "output_type": "execute_result"
    }
   ],
   "source": [
    "Lb.classes_"
   ]
  },
  {
   "cell_type": "code",
   "execution_count": 242,
   "id": "1ee40f0f",
   "metadata": {},
   "outputs": [
    {
     "data": {
      "text/html": [
       "<div>\n",
       "<style scoped>\n",
       "    .dataframe tbody tr th:only-of-type {\n",
       "        vertical-align: middle;\n",
       "    }\n",
       "\n",
       "    .dataframe tbody tr th {\n",
       "        vertical-align: top;\n",
       "    }\n",
       "\n",
       "    .dataframe thead th {\n",
       "        text-align: right;\n",
       "    }\n",
       "</style>\n",
       "<table border=\"1\" class=\"dataframe\">\n",
       "  <thead>\n",
       "    <tr style=\"text-align: right;\">\n",
       "      <th></th>\n",
       "      <th>label</th>\n",
       "      <th>message</th>\n",
       "    </tr>\n",
       "  </thead>\n",
       "  <tbody>\n",
       "    <tr>\n",
       "      <th>0</th>\n",
       "      <td>0</td>\n",
       "      <td>Go until jurong point, crazy.. Available only ...</td>\n",
       "    </tr>\n",
       "    <tr>\n",
       "      <th>1</th>\n",
       "      <td>0</td>\n",
       "      <td>Ok lar... Joking wif u oni...</td>\n",
       "    </tr>\n",
       "    <tr>\n",
       "      <th>2</th>\n",
       "      <td>1</td>\n",
       "      <td>Free entry in 2 a wkly comp to win FA Cup fina...</td>\n",
       "    </tr>\n",
       "    <tr>\n",
       "      <th>3</th>\n",
       "      <td>0</td>\n",
       "      <td>U dun say so early hor... U c already then say...</td>\n",
       "    </tr>\n",
       "    <tr>\n",
       "      <th>4</th>\n",
       "      <td>0</td>\n",
       "      <td>Nah I don't think he goes to usf, he lives aro...</td>\n",
       "    </tr>\n",
       "  </tbody>\n",
       "</table>\n",
       "</div>"
      ],
      "text/plain": [
       "   label                                            message\n",
       "0      0  Go until jurong point, crazy.. Available only ...\n",
       "1      0                      Ok lar... Joking wif u oni...\n",
       "2      1  Free entry in 2 a wkly comp to win FA Cup fina...\n",
       "3      0  U dun say so early hor... U c already then say...\n",
       "4      0  Nah I don't think he goes to usf, he lives aro..."
      ]
     },
     "execution_count": 242,
     "metadata": {},
     "output_type": "execute_result"
    }
   ],
   "source": [
    "df.head(5)"
   ]
  },
  {
   "cell_type": "code",
   "execution_count": 243,
   "id": "68748919",
   "metadata": {},
   "outputs": [
    {
     "data": {
      "text/plain": [
       "label      0\n",
       "message    0\n",
       "dtype: int64"
      ]
     },
     "execution_count": 243,
     "metadata": {},
     "output_type": "execute_result"
    }
   ],
   "source": [
    "df.isnull().sum()"
   ]
  },
  {
   "cell_type": "code",
   "execution_count": 244,
   "id": "0824dcd4",
   "metadata": {},
   "outputs": [
    {
     "data": {
      "text/plain": [
       "0    4825\n",
       "1     747\n",
       "Name: label, dtype: int64"
      ]
     },
     "execution_count": 244,
     "metadata": {},
     "output_type": "execute_result"
    }
   ],
   "source": [
    "df['label'].value_counts()"
   ]
  },
  {
   "cell_type": "code",
   "execution_count": 245,
   "id": "d473dcee",
   "metadata": {},
   "outputs": [
    {
     "data": {
      "text/html": [
       "<div>\n",
       "<style scoped>\n",
       "    .dataframe tbody tr th:only-of-type {\n",
       "        vertical-align: middle;\n",
       "    }\n",
       "\n",
       "    .dataframe tbody tr th {\n",
       "        vertical-align: top;\n",
       "    }\n",
       "\n",
       "    .dataframe thead th {\n",
       "        text-align: right;\n",
       "    }\n",
       "</style>\n",
       "<table border=\"1\" class=\"dataframe\">\n",
       "  <thead>\n",
       "    <tr style=\"text-align: right;\">\n",
       "      <th></th>\n",
       "      <th>label</th>\n",
       "      <th>message</th>\n",
       "    </tr>\n",
       "  </thead>\n",
       "  <tbody>\n",
       "    <tr>\n",
       "      <th>0</th>\n",
       "      <td>0</td>\n",
       "      <td>Go until jurong point, crazy.. Available only ...</td>\n",
       "    </tr>\n",
       "    <tr>\n",
       "      <th>1</th>\n",
       "      <td>0</td>\n",
       "      <td>Ok lar... Joking wif u oni...</td>\n",
       "    </tr>\n",
       "    <tr>\n",
       "      <th>2</th>\n",
       "      <td>1</td>\n",
       "      <td>Free entry in 2 a wkly comp to win FA Cup fina...</td>\n",
       "    </tr>\n",
       "    <tr>\n",
       "      <th>3</th>\n",
       "      <td>0</td>\n",
       "      <td>U dun say so early hor... U c already then say...</td>\n",
       "    </tr>\n",
       "    <tr>\n",
       "      <th>4</th>\n",
       "      <td>0</td>\n",
       "      <td>Nah I don't think he goes to usf, he lives aro...</td>\n",
       "    </tr>\n",
       "    <tr>\n",
       "      <th>...</th>\n",
       "      <td>...</td>\n",
       "      <td>...</td>\n",
       "    </tr>\n",
       "    <tr>\n",
       "      <th>5567</th>\n",
       "      <td>1</td>\n",
       "      <td>This is the 2nd time we have tried 2 contact u...</td>\n",
       "    </tr>\n",
       "    <tr>\n",
       "      <th>5568</th>\n",
       "      <td>0</td>\n",
       "      <td>Will ü b going to esplanade fr home?</td>\n",
       "    </tr>\n",
       "    <tr>\n",
       "      <th>5569</th>\n",
       "      <td>0</td>\n",
       "      <td>Pity, * was in mood for that. So...any other s...</td>\n",
       "    </tr>\n",
       "    <tr>\n",
       "      <th>5570</th>\n",
       "      <td>0</td>\n",
       "      <td>The guy did some bitching but I acted like i'd...</td>\n",
       "    </tr>\n",
       "    <tr>\n",
       "      <th>5571</th>\n",
       "      <td>0</td>\n",
       "      <td>Rofl. Its true to its name</td>\n",
       "    </tr>\n",
       "  </tbody>\n",
       "</table>\n",
       "<p>5572 rows × 2 columns</p>\n",
       "</div>"
      ],
      "text/plain": [
       "      label                                            message\n",
       "0         0  Go until jurong point, crazy.. Available only ...\n",
       "1         0                      Ok lar... Joking wif u oni...\n",
       "2         1  Free entry in 2 a wkly comp to win FA Cup fina...\n",
       "3         0  U dun say so early hor... U c already then say...\n",
       "4         0  Nah I don't think he goes to usf, he lives aro...\n",
       "...     ...                                                ...\n",
       "5567      1  This is the 2nd time we have tried 2 contact u...\n",
       "5568      0               Will ü b going to esplanade fr home?\n",
       "5569      0  Pity, * was in mood for that. So...any other s...\n",
       "5570      0  The guy did some bitching but I acted like i'd...\n",
       "5571      0                         Rofl. Its true to its name\n",
       "\n",
       "[5572 rows x 2 columns]"
      ]
     },
     "execution_count": 245,
     "metadata": {},
     "output_type": "execute_result"
    }
   ],
   "source": [
    "df"
   ]
  },
  {
   "cell_type": "code",
   "execution_count": 246,
   "id": "155175d8",
   "metadata": {},
   "outputs": [
    {
     "data": {
      "text/plain": [
       "403"
      ]
     },
     "execution_count": 246,
     "metadata": {},
     "output_type": "execute_result"
    }
   ],
   "source": [
    "df.duplicated().sum()"
   ]
  },
  {
   "cell_type": "code",
   "execution_count": 247,
   "id": "63d94ec5",
   "metadata": {},
   "outputs": [
    {
     "data": {
      "text/html": [
       "<div>\n",
       "<style scoped>\n",
       "    .dataframe tbody tr th:only-of-type {\n",
       "        vertical-align: middle;\n",
       "    }\n",
       "\n",
       "    .dataframe tbody tr th {\n",
       "        vertical-align: top;\n",
       "    }\n",
       "\n",
       "    .dataframe thead th {\n",
       "        text-align: right;\n",
       "    }\n",
       "</style>\n",
       "<table border=\"1\" class=\"dataframe\">\n",
       "  <thead>\n",
       "    <tr style=\"text-align: right;\">\n",
       "      <th></th>\n",
       "      <th>label</th>\n",
       "      <th>message</th>\n",
       "    </tr>\n",
       "  </thead>\n",
       "  <tbody>\n",
       "    <tr>\n",
       "      <th>103</th>\n",
       "      <td>0</td>\n",
       "      <td>As per your request 'Melle Melle (Oru Minnamin...</td>\n",
       "    </tr>\n",
       "    <tr>\n",
       "      <th>154</th>\n",
       "      <td>0</td>\n",
       "      <td>As per your request 'Melle Melle (Oru Minnamin...</td>\n",
       "    </tr>\n",
       "    <tr>\n",
       "      <th>207</th>\n",
       "      <td>0</td>\n",
       "      <td>As I entered my cabin my PA said, '' Happy B'd...</td>\n",
       "    </tr>\n",
       "    <tr>\n",
       "      <th>223</th>\n",
       "      <td>0</td>\n",
       "      <td>Sorry, I'll call later</td>\n",
       "    </tr>\n",
       "    <tr>\n",
       "      <th>326</th>\n",
       "      <td>0</td>\n",
       "      <td>No calls..messages..missed calls</td>\n",
       "    </tr>\n",
       "    <tr>\n",
       "      <th>...</th>\n",
       "      <td>...</td>\n",
       "      <td>...</td>\n",
       "    </tr>\n",
       "    <tr>\n",
       "      <th>5524</th>\n",
       "      <td>1</td>\n",
       "      <td>You are awarded a SiPix Digital Camera! call 0...</td>\n",
       "    </tr>\n",
       "    <tr>\n",
       "      <th>5535</th>\n",
       "      <td>0</td>\n",
       "      <td>I know you are thinkin malaria. But relax, chi...</td>\n",
       "    </tr>\n",
       "    <tr>\n",
       "      <th>5539</th>\n",
       "      <td>0</td>\n",
       "      <td>Just sleeping..and surfing</td>\n",
       "    </tr>\n",
       "    <tr>\n",
       "      <th>5553</th>\n",
       "      <td>0</td>\n",
       "      <td>Hahaha..use your brain dear</td>\n",
       "    </tr>\n",
       "    <tr>\n",
       "      <th>5558</th>\n",
       "      <td>0</td>\n",
       "      <td>Sorry, I'll call later</td>\n",
       "    </tr>\n",
       "  </tbody>\n",
       "</table>\n",
       "<p>403 rows × 2 columns</p>\n",
       "</div>"
      ],
      "text/plain": [
       "      label                                            message\n",
       "103       0  As per your request 'Melle Melle (Oru Minnamin...\n",
       "154       0  As per your request 'Melle Melle (Oru Minnamin...\n",
       "207       0  As I entered my cabin my PA said, '' Happy B'd...\n",
       "223       0                             Sorry, I'll call later\n",
       "326       0                   No calls..messages..missed calls\n",
       "...     ...                                                ...\n",
       "5524      1  You are awarded a SiPix Digital Camera! call 0...\n",
       "5535      0  I know you are thinkin malaria. But relax, chi...\n",
       "5539      0                         Just sleeping..and surfing\n",
       "5553      0                        Hahaha..use your brain dear\n",
       "5558      0                             Sorry, I'll call later\n",
       "\n",
       "[403 rows x 2 columns]"
      ]
     },
     "execution_count": 247,
     "metadata": {},
     "output_type": "execute_result"
    }
   ],
   "source": [
    "df[df.duplicated()] #.sum()"
   ]
  },
  {
   "cell_type": "code",
   "execution_count": 248,
   "id": "70d3b390",
   "metadata": {},
   "outputs": [],
   "source": [
    "df = df.drop_duplicates(keep=\"first\")"
   ]
  },
  {
   "cell_type": "code",
   "execution_count": 249,
   "id": "d05be2a4",
   "metadata": {},
   "outputs": [
    {
     "data": {
      "text/html": [
       "<div>\n",
       "<style scoped>\n",
       "    .dataframe tbody tr th:only-of-type {\n",
       "        vertical-align: middle;\n",
       "    }\n",
       "\n",
       "    .dataframe tbody tr th {\n",
       "        vertical-align: top;\n",
       "    }\n",
       "\n",
       "    .dataframe thead th {\n",
       "        text-align: right;\n",
       "    }\n",
       "</style>\n",
       "<table border=\"1\" class=\"dataframe\">\n",
       "  <thead>\n",
       "    <tr style=\"text-align: right;\">\n",
       "      <th></th>\n",
       "      <th>label</th>\n",
       "      <th>message</th>\n",
       "    </tr>\n",
       "  </thead>\n",
       "  <tbody>\n",
       "    <tr>\n",
       "      <th>0</th>\n",
       "      <td>0</td>\n",
       "      <td>Go until jurong point, crazy.. Available only ...</td>\n",
       "    </tr>\n",
       "    <tr>\n",
       "      <th>1</th>\n",
       "      <td>0</td>\n",
       "      <td>Ok lar... Joking wif u oni...</td>\n",
       "    </tr>\n",
       "    <tr>\n",
       "      <th>2</th>\n",
       "      <td>1</td>\n",
       "      <td>Free entry in 2 a wkly comp to win FA Cup fina...</td>\n",
       "    </tr>\n",
       "    <tr>\n",
       "      <th>3</th>\n",
       "      <td>0</td>\n",
       "      <td>U dun say so early hor... U c already then say...</td>\n",
       "    </tr>\n",
       "    <tr>\n",
       "      <th>4</th>\n",
       "      <td>0</td>\n",
       "      <td>Nah I don't think he goes to usf, he lives aro...</td>\n",
       "    </tr>\n",
       "    <tr>\n",
       "      <th>...</th>\n",
       "      <td>...</td>\n",
       "      <td>...</td>\n",
       "    </tr>\n",
       "    <tr>\n",
       "      <th>5567</th>\n",
       "      <td>1</td>\n",
       "      <td>This is the 2nd time we have tried 2 contact u...</td>\n",
       "    </tr>\n",
       "    <tr>\n",
       "      <th>5568</th>\n",
       "      <td>0</td>\n",
       "      <td>Will ü b going to esplanade fr home?</td>\n",
       "    </tr>\n",
       "    <tr>\n",
       "      <th>5569</th>\n",
       "      <td>0</td>\n",
       "      <td>Pity, * was in mood for that. So...any other s...</td>\n",
       "    </tr>\n",
       "    <tr>\n",
       "      <th>5570</th>\n",
       "      <td>0</td>\n",
       "      <td>The guy did some bitching but I acted like i'd...</td>\n",
       "    </tr>\n",
       "    <tr>\n",
       "      <th>5571</th>\n",
       "      <td>0</td>\n",
       "      <td>Rofl. Its true to its name</td>\n",
       "    </tr>\n",
       "  </tbody>\n",
       "</table>\n",
       "<p>5169 rows × 2 columns</p>\n",
       "</div>"
      ],
      "text/plain": [
       "      label                                            message\n",
       "0         0  Go until jurong point, crazy.. Available only ...\n",
       "1         0                      Ok lar... Joking wif u oni...\n",
       "2         1  Free entry in 2 a wkly comp to win FA Cup fina...\n",
       "3         0  U dun say so early hor... U c already then say...\n",
       "4         0  Nah I don't think he goes to usf, he lives aro...\n",
       "...     ...                                                ...\n",
       "5567      1  This is the 2nd time we have tried 2 contact u...\n",
       "5568      0               Will ü b going to esplanade fr home?\n",
       "5569      0  Pity, * was in mood for that. So...any other s...\n",
       "5570      0  The guy did some bitching but I acted like i'd...\n",
       "5571      0                         Rofl. Its true to its name\n",
       "\n",
       "[5169 rows x 2 columns]"
      ]
     },
     "execution_count": 249,
     "metadata": {},
     "output_type": "execute_result"
    }
   ],
   "source": [
    "df"
   ]
  },
  {
   "cell_type": "code",
   "execution_count": 250,
   "id": "05f86b1c",
   "metadata": {},
   "outputs": [
    {
     "data": {
      "text/plain": [
       "0    4516\n",
       "1     653\n",
       "Name: label, dtype: int64"
      ]
     },
     "execution_count": 250,
     "metadata": {},
     "output_type": "execute_result"
    }
   ],
   "source": [
    "df.label.value_counts()"
   ]
  },
  {
   "cell_type": "code",
   "execution_count": 251,
   "id": "1ac90ffb",
   "metadata": {},
   "outputs": [
    {
     "data": {
      "text/plain": [
       "<AxesSubplot:xlabel='label', ylabel='count'>"
      ]
     },
     "execution_count": 251,
     "metadata": {},
     "output_type": "execute_result"
    },
    {
     "data": {
      "image/png": "[encoded data removed]",
      "text/plain": [
       "<Figure size 432x288 with 1 Axes>"
      ]
     },
     "metadata": {
      "needs_background": "light"
     },
     "output_type": "display_data"
    }
   ],
   "source": [
    "sns.countplot(x= df.label)"
   ]
  },
  {
   "cell_type": "code",
   "execution_count": 252,
   "id": "96ee9b65",
   "metadata": {},
   "outputs": [
    {
     "data": {
      "text/html": [
       "<div>\n",
       "<style scoped>\n",
       "    .dataframe tbody tr th:only-of-type {\n",
       "        vertical-align: middle;\n",
       "    }\n",
       "\n",
       "    .dataframe tbody tr th {\n",
       "        vertical-align: top;\n",
       "    }\n",
       "\n",
       "    .dataframe thead th {\n",
       "        text-align: right;\n",
       "    }\n",
       "</style>\n",
       "<table border=\"1\" class=\"dataframe\">\n",
       "  <thead>\n",
       "    <tr style=\"text-align: right;\">\n",
       "      <th></th>\n",
       "      <th>label</th>\n",
       "      <th>message</th>\n",
       "    </tr>\n",
       "  </thead>\n",
       "  <tbody>\n",
       "    <tr>\n",
       "      <th>0</th>\n",
       "      <td>0</td>\n",
       "      <td>Go until jurong point, crazy.. Available only ...</td>\n",
       "    </tr>\n",
       "    <tr>\n",
       "      <th>1</th>\n",
       "      <td>0</td>\n",
       "      <td>Ok lar... Joking wif u oni...</td>\n",
       "    </tr>\n",
       "    <tr>\n",
       "      <th>2</th>\n",
       "      <td>1</td>\n",
       "      <td>Free entry in 2 a wkly comp to win FA Cup fina...</td>\n",
       "    </tr>\n",
       "    <tr>\n",
       "      <th>3</th>\n",
       "      <td>0</td>\n",
       "      <td>U dun say so early hor... U c already then say...</td>\n",
       "    </tr>\n",
       "    <tr>\n",
       "      <th>4</th>\n",
       "      <td>0</td>\n",
       "      <td>Nah I don't think he goes to usf, he lives aro...</td>\n",
       "    </tr>\n",
       "  </tbody>\n",
       "</table>\n",
       "</div>"
      ],
      "text/plain": [
       "   label                                            message\n",
       "0      0  Go until jurong point, crazy.. Available only ...\n",
       "1      0                      Ok lar... Joking wif u oni...\n",
       "2      1  Free entry in 2 a wkly comp to win FA Cup fina...\n",
       "3      0  U dun say so early hor... U c already then say...\n",
       "4      0  Nah I don't think he goes to usf, he lives aro..."
      ]
     },
     "execution_count": 252,
     "metadata": {},
     "output_type": "execute_result"
    }
   ],
   "source": [
    "df.head()"
   ]
  },
  {
   "cell_type": "code",
   "execution_count": 253,
   "id": "96b22382",
   "metadata": {},
   "outputs": [
    {
     "name": "stderr",
     "output_type": "stream",
     "text": [
      "C:\\Users\\Rakesh\\AppData\\Local\\Temp\\ipykernel_2548\\3528255562.py:1: SettingWithCopyWarning: \n",
      "A value is trying to be set on a copy of a slice from a DataFrame.\n",
      "Try using .loc[row_indexer,col_indexer] = value instead\n",
      "\n",
      "See the caveats in the documentation: https://pandas.pydata.org/pandas-docs/stable/user_guide/indexing.html#returning-a-view-versus-a-copy\n",
      "  df[\"char_len\"] = df.apply(lambda x :  len(x[1]), axis = 1)\n"
     ]
    }
   ],
   "source": [
    "df[\"char_len\"] = df.apply(lambda x :  len(x[1]), axis = 1)"
   ]
  },
  {
   "cell_type": "code",
   "execution_count": 254,
   "id": "9930365a",
   "metadata": {},
   "outputs": [
    {
     "data": {
      "text/html": [
       "<div>\n",
       "<style scoped>\n",
       "    .dataframe tbody tr th:only-of-type {\n",
       "        vertical-align: middle;\n",
       "    }\n",
       "\n",
       "    .dataframe tbody tr th {\n",
       "        vertical-align: top;\n",
       "    }\n",
       "\n",
       "    .dataframe thead th {\n",
       "        text-align: right;\n",
       "    }\n",
       "</style>\n",
       "<table border=\"1\" class=\"dataframe\">\n",
       "  <thead>\n",
       "    <tr style=\"text-align: right;\">\n",
       "      <th></th>\n",
       "      <th>label</th>\n",
       "      <th>message</th>\n",
       "      <th>char_len</th>\n",
       "    </tr>\n",
       "  </thead>\n",
       "  <tbody>\n",
       "    <tr>\n",
       "      <th>0</th>\n",
       "      <td>0</td>\n",
       "      <td>Go until jurong point, crazy.. Available only ...</td>\n",
       "      <td>111</td>\n",
       "    </tr>\n",
       "    <tr>\n",
       "      <th>1</th>\n",
       "      <td>0</td>\n",
       "      <td>Ok lar... Joking wif u oni...</td>\n",
       "      <td>29</td>\n",
       "    </tr>\n",
       "    <tr>\n",
       "      <th>2</th>\n",
       "      <td>1</td>\n",
       "      <td>Free entry in 2 a wkly comp to win FA Cup fina...</td>\n",
       "      <td>155</td>\n",
       "    </tr>\n",
       "    <tr>\n",
       "      <th>3</th>\n",
       "      <td>0</td>\n",
       "      <td>U dun say so early hor... U c already then say...</td>\n",
       "      <td>49</td>\n",
       "    </tr>\n",
       "    <tr>\n",
       "      <th>4</th>\n",
       "      <td>0</td>\n",
       "      <td>Nah I don't think he goes to usf, he lives aro...</td>\n",
       "      <td>61</td>\n",
       "    </tr>\n",
       "    <tr>\n",
       "      <th>...</th>\n",
       "      <td>...</td>\n",
       "      <td>...</td>\n",
       "      <td>...</td>\n",
       "    </tr>\n",
       "    <tr>\n",
       "      <th>5567</th>\n",
       "      <td>1</td>\n",
       "      <td>This is the 2nd time we have tried 2 contact u...</td>\n",
       "      <td>160</td>\n",
       "    </tr>\n",
       "    <tr>\n",
       "      <th>5568</th>\n",
       "      <td>0</td>\n",
       "      <td>Will ü b going to esplanade fr home?</td>\n",
       "      <td>36</td>\n",
       "    </tr>\n",
       "    <tr>\n",
       "      <th>5569</th>\n",
       "      <td>0</td>\n",
       "      <td>Pity, * was in mood for that. So...any other s...</td>\n",
       "      <td>57</td>\n",
       "    </tr>\n",
       "    <tr>\n",
       "      <th>5570</th>\n",
       "      <td>0</td>\n",
       "      <td>The guy did some bitching but I acted like i'd...</td>\n",
       "      <td>125</td>\n",
       "    </tr>\n",
       "    <tr>\n",
       "      <th>5571</th>\n",
       "      <td>0</td>\n",
       "      <td>Rofl. Its true to its name</td>\n",
       "      <td>26</td>\n",
       "    </tr>\n",
       "  </tbody>\n",
       "</table>\n",
       "<p>5169 rows × 3 columns</p>\n",
       "</div>"
      ],
      "text/plain": [
       "      label                                            message  char_len\n",
       "0         0  Go until jurong point, crazy.. Available only ...       111\n",
       "1         0                      Ok lar... Joking wif u oni...        29\n",
       "2         1  Free entry in 2 a wkly comp to win FA Cup fina...       155\n",
       "3         0  U dun say so early hor... U c already then say...        49\n",
       "4         0  Nah I don't think he goes to usf, he lives aro...        61\n",
       "...     ...                                                ...       ...\n",
       "5567      1  This is the 2nd time we have tried 2 contact u...       160\n",
       "5568      0               Will ü b going to esplanade fr home?        36\n",
       "5569      0  Pity, * was in mood for that. So...any other s...        57\n",
       "5570      0  The guy did some bitching but I acted like i'd...       125\n",
       "5571      0                         Rofl. Its true to its name        26\n",
       "\n",
       "[5169 rows x 3 columns]"
      ]
     },
     "execution_count": 254,
     "metadata": {},
     "output_type": "execute_result"
    }
   ],
   "source": [
    "df"
   ]
  },
  {
   "cell_type": "code",
   "execution_count": 255,
   "id": "4b4fa827",
   "metadata": {},
   "outputs": [
    {
     "name": "stderr",
     "output_type": "stream",
     "text": [
      "C:\\Users\\Rakesh\\AppData\\Local\\Temp\\ipykernel_2548\\3202302345.py:1: SettingWithCopyWarning: \n",
      "A value is trying to be set on a copy of a slice from a DataFrame.\n",
      "Try using .loc[row_indexer,col_indexer] = value instead\n",
      "\n",
      "See the caveats in the documentation: https://pandas.pydata.org/pandas-docs/stable/user_guide/indexing.html#returning-a-view-versus-a-copy\n",
      "  df[\"word_len\"] = df.apply(lambda x : len(x[1].split(\" \")), axis = 1)\n"
     ]
    }
   ],
   "source": [
    "df[\"word_len\"] = df.apply(lambda x : len(x[1].split(\" \")), axis = 1)"
   ]
  },
  {
   "cell_type": "code",
   "execution_count": 256,
   "id": "78952893",
   "metadata": {},
   "outputs": [
    {
     "data": {
      "text/html": [
       "<div>\n",
       "<style scoped>\n",
       "    .dataframe tbody tr th:only-of-type {\n",
       "        vertical-align: middle;\n",
       "    }\n",
       "\n",
       "    .dataframe tbody tr th {\n",
       "        vertical-align: top;\n",
       "    }\n",
       "\n",
       "    .dataframe thead th {\n",
       "        text-align: right;\n",
       "    }\n",
       "</style>\n",
       "<table border=\"1\" class=\"dataframe\">\n",
       "  <thead>\n",
       "    <tr style=\"text-align: right;\">\n",
       "      <th></th>\n",
       "      <th>label</th>\n",
       "      <th>message</th>\n",
       "      <th>char_len</th>\n",
       "      <th>word_len</th>\n",
       "    </tr>\n",
       "  </thead>\n",
       "  <tbody>\n",
       "    <tr>\n",
       "      <th>0</th>\n",
       "      <td>0</td>\n",
       "      <td>Go until jurong point, crazy.. Available only ...</td>\n",
       "      <td>111</td>\n",
       "      <td>20</td>\n",
       "    </tr>\n",
       "    <tr>\n",
       "      <th>1</th>\n",
       "      <td>0</td>\n",
       "      <td>Ok lar... Joking wif u oni...</td>\n",
       "      <td>29</td>\n",
       "      <td>6</td>\n",
       "    </tr>\n",
       "    <tr>\n",
       "      <th>2</th>\n",
       "      <td>1</td>\n",
       "      <td>Free entry in 2 a wkly comp to win FA Cup fina...</td>\n",
       "      <td>155</td>\n",
       "      <td>28</td>\n",
       "    </tr>\n",
       "    <tr>\n",
       "      <th>3</th>\n",
       "      <td>0</td>\n",
       "      <td>U dun say so early hor... U c already then say...</td>\n",
       "      <td>49</td>\n",
       "      <td>11</td>\n",
       "    </tr>\n",
       "    <tr>\n",
       "      <th>4</th>\n",
       "      <td>0</td>\n",
       "      <td>Nah I don't think he goes to usf, he lives aro...</td>\n",
       "      <td>61</td>\n",
       "      <td>13</td>\n",
       "    </tr>\n",
       "  </tbody>\n",
       "</table>\n",
       "</div>"
      ],
      "text/plain": [
       "   label                                            message  char_len  \\\n",
       "0      0  Go until jurong point, crazy.. Available only ...       111   \n",
       "1      0                      Ok lar... Joking wif u oni...        29   \n",
       "2      1  Free entry in 2 a wkly comp to win FA Cup fina...       155   \n",
       "3      0  U dun say so early hor... U c already then say...        49   \n",
       "4      0  Nah I don't think he goes to usf, he lives aro...        61   \n",
       "\n",
       "   word_len  \n",
       "0        20  \n",
       "1         6  \n",
       "2        28  \n",
       "3        11  \n",
       "4        13  "
      ]
     },
     "execution_count": 256,
     "metadata": {},
     "output_type": "execute_result"
    }
   ],
   "source": [
    "df.head()"
   ]
  },
  {
   "cell_type": "code",
   "execution_count": null,
   "id": "6687424a",
   "metadata": {},
   "outputs": [],
   "source": []
  },
  {
   "cell_type": "code",
   "execution_count": 257,
   "id": "7d2a937e",
   "metadata": {},
   "outputs": [
    {
     "name": "stderr",
     "output_type": "stream",
     "text": [
      "C:\\Users\\Rakesh\\AppData\\Local\\Temp\\ipykernel_2548\\26209976.py:1: SettingWithCopyWarning: \n",
      "A value is trying to be set on a copy of a slice from a DataFrame.\n",
      "Try using .loc[row_indexer,col_indexer] = value instead\n",
      "\n",
      "See the caveats in the documentation: https://pandas.pydata.org/pandas-docs/stable/user_guide/indexing.html#returning-a-view-versus-a-copy\n",
      "  df[\"sen_len\"] = df.message.apply(lambda x : len(x.split(\".\")))\n"
     ]
    }
   ],
   "source": [
    "df[\"sen_len\"] = df.message.apply(lambda x : len(x.split(\".\")))"
   ]
  },
  {
   "cell_type": "code",
   "execution_count": 258,
   "id": "6374fe79",
   "metadata": {},
   "outputs": [
    {
     "data": {
      "text/html": [
       "<div>\n",
       "<style scoped>\n",
       "    .dataframe tbody tr th:only-of-type {\n",
       "        vertical-align: middle;\n",
       "    }\n",
       "\n",
       "    .dataframe tbody tr th {\n",
       "        vertical-align: top;\n",
       "    }\n",
       "\n",
       "    .dataframe thead th {\n",
       "        text-align: right;\n",
       "    }\n",
       "</style>\n",
       "<table border=\"1\" class=\"dataframe\">\n",
       "  <thead>\n",
       "    <tr style=\"text-align: right;\">\n",
       "      <th></th>\n",
       "      <th>label</th>\n",
       "      <th>message</th>\n",
       "      <th>char_len</th>\n",
       "      <th>word_len</th>\n",
       "      <th>sen_len</th>\n",
       "    </tr>\n",
       "  </thead>\n",
       "  <tbody>\n",
       "    <tr>\n",
       "      <th>0</th>\n",
       "      <td>0</td>\n",
       "      <td>Go until jurong point, crazy.. Available only ...</td>\n",
       "      <td>111</td>\n",
       "      <td>20</td>\n",
       "      <td>9</td>\n",
       "    </tr>\n",
       "    <tr>\n",
       "      <th>1</th>\n",
       "      <td>0</td>\n",
       "      <td>Ok lar... Joking wif u oni...</td>\n",
       "      <td>29</td>\n",
       "      <td>6</td>\n",
       "      <td>7</td>\n",
       "    </tr>\n",
       "    <tr>\n",
       "      <th>2</th>\n",
       "      <td>1</td>\n",
       "      <td>Free entry in 2 a wkly comp to win FA Cup fina...</td>\n",
       "      <td>155</td>\n",
       "      <td>28</td>\n",
       "      <td>2</td>\n",
       "    </tr>\n",
       "    <tr>\n",
       "      <th>3</th>\n",
       "      <td>0</td>\n",
       "      <td>U dun say so early hor... U c already then say...</td>\n",
       "      <td>49</td>\n",
       "      <td>11</td>\n",
       "      <td>7</td>\n",
       "    </tr>\n",
       "    <tr>\n",
       "      <th>4</th>\n",
       "      <td>0</td>\n",
       "      <td>Nah I don't think he goes to usf, he lives aro...</td>\n",
       "      <td>61</td>\n",
       "      <td>13</td>\n",
       "      <td>1</td>\n",
       "    </tr>\n",
       "  </tbody>\n",
       "</table>\n",
       "</div>"
      ],
      "text/plain": [
       "   label                                            message  char_len  \\\n",
       "0      0  Go until jurong point, crazy.. Available only ...       111   \n",
       "1      0                      Ok lar... Joking wif u oni...        29   \n",
       "2      1  Free entry in 2 a wkly comp to win FA Cup fina...       155   \n",
       "3      0  U dun say so early hor... U c already then say...        49   \n",
       "4      0  Nah I don't think he goes to usf, he lives aro...        61   \n",
       "\n",
       "   word_len  sen_len  \n",
       "0        20        9  \n",
       "1         6        7  \n",
       "2        28        2  \n",
       "3        11        7  \n",
       "4        13        1  "
      ]
     },
     "execution_count": 258,
     "metadata": {},
     "output_type": "execute_result"
    }
   ],
   "source": [
    "df.head()"
   ]
  },
  {
   "cell_type": "code",
   "execution_count": 259,
   "id": "67733b75",
   "metadata": {},
   "outputs": [
    {
     "data": {
      "text/html": [
       "<div>\n",
       "<style scoped>\n",
       "    .dataframe tbody tr th:only-of-type {\n",
       "        vertical-align: middle;\n",
       "    }\n",
       "\n",
       "    .dataframe tbody tr th {\n",
       "        vertical-align: top;\n",
       "    }\n",
       "\n",
       "    .dataframe thead th {\n",
       "        text-align: right;\n",
       "    }\n",
       "</style>\n",
       "<table border=\"1\" class=\"dataframe\">\n",
       "  <thead>\n",
       "    <tr style=\"text-align: right;\">\n",
       "      <th></th>\n",
       "      <th>char_len</th>\n",
       "      <th>word_len</th>\n",
       "      <th>sen_len</th>\n",
       "    </tr>\n",
       "    <tr>\n",
       "      <th>label</th>\n",
       "      <th></th>\n",
       "      <th></th>\n",
       "      <th></th>\n",
       "    </tr>\n",
       "  </thead>\n",
       "  <tbody>\n",
       "    <tr>\n",
       "      <th>0</th>\n",
       "      <td>70.905890</td>\n",
       "      <td>14.364482</td>\n",
       "      <td>2.944198</td>\n",
       "    </tr>\n",
       "    <tr>\n",
       "      <th>1</th>\n",
       "      <td>137.704441</td>\n",
       "      <td>23.787136</td>\n",
       "      <td>3.062787</td>\n",
       "    </tr>\n",
       "  </tbody>\n",
       "</table>\n",
       "</div>"
      ],
      "text/plain": [
       "         char_len   word_len   sen_len\n",
       "label                                 \n",
       "0       70.905890  14.364482  2.944198\n",
       "1      137.704441  23.787136  3.062787"
      ]
     },
     "execution_count": 259,
     "metadata": {},
     "output_type": "execute_result"
    }
   ],
   "source": [
    "df[[\"char_len\",\"word_len\",\"sen_len\"]].groupby(by=df[\"label\"]).mean()"
   ]
  },
  {
   "cell_type": "code",
   "execution_count": 260,
   "id": "31344f6f",
   "metadata": {},
   "outputs": [
    {
     "data": {
      "text/plain": [
       "0    4516\n",
       "1     653\n",
       "Name: label, dtype: int64"
      ]
     },
     "execution_count": 260,
     "metadata": {},
     "output_type": "execute_result"
    }
   ],
   "source": [
    "df['label'].value_counts()"
   ]
  },
  {
   "cell_type": "code",
   "execution_count": 261,
   "id": "edda3706",
   "metadata": {},
   "outputs": [
    {
     "data": {
      "text/plain": [
       "<seaborn.axisgrid.PairGrid at 0x202af65a6d0>"
      ]
     },
     "execution_count": 261,
     "metadata": {},
     "output_type": "execute_result"
    },
    {
     "data": {
      "image/png": "[encoded data removed]",
      "text/plain": [
       "<Figure size 582.375x540 with 12 Axes>"
      ]
     },
     "metadata": {
      "needs_background": "light"
     },
     "output_type": "display_data"
    }
   ],
   "source": [
    "sns.pairplot(df,hue=\"label\")"
   ]
  },
  {
   "cell_type": "code",
   "execution_count": 262,
   "id": "c0216b63",
   "metadata": {},
   "outputs": [
    {
     "data": {
      "text/plain": [
       "'!\"#$%&\\'()*+,-./:;<=>?@[\\\\]^_`{|}~'"
      ]
     },
     "execution_count": 262,
     "metadata": {},
     "output_type": "execute_result"
    }
   ],
   "source": [
    "import string\n",
    "string.punctuation"
   ]
  },
  {
   "cell_type": "code",
   "execution_count": null,
   "id": "f8635b3b",
   "metadata": {},
   "outputs": [],
   "source": []
  },
  {
   "cell_type": "code",
   "execution_count": 263,
   "id": "494e538e",
   "metadata": {},
   "outputs": [],
   "source": [
    "# from nltk.stem.porter import PorterStemmer\n",
    "# ps = PorterStemmer()"
   ]
  },
  {
   "cell_type": "code",
   "execution_count": 264,
   "id": "bd9963b1",
   "metadata": {},
   "outputs": [],
   "source": [
    "import re"
   ]
  },
  {
   "cell_type": "code",
   "execution_count": 265,
   "id": "396451cd",
   "metadata": {},
   "outputs": [],
   "source": [
    "# a-z A-Z 0-9 _\n",
    "patt = r\"([\\w]+)\\s\"\n",
    "st = \"how you me $ a#s0 sld@ r23 \""
   ]
  },
  {
   "cell_type": "code",
   "execution_count": 266,
   "id": "1706daf9",
   "metadata": {},
   "outputs": [
    {
     "data": {
      "text/plain": [
       "['how', 'you', 'me', 's0', 'r23']"
      ]
     },
     "execution_count": 266,
     "metadata": {},
     "output_type": "execute_result"
    }
   ],
   "source": [
    "re.findall(patt, st)"
   ]
  },
  {
   "cell_type": "code",
   "execution_count": null,
   "id": "47531f08",
   "metadata": {},
   "outputs": [],
   "source": []
  },
  {
   "cell_type": "code",
   "execution_count": 267,
   "id": "02628edb",
   "metadata": {},
   "outputs": [],
   "source": [
    "def clean_msg(msg) :\n",
    "    msg = msg.lower()\n",
    "    return \" \".join(re.findall(patt, msg))\n",
    "#     msg = nltk.word_tokenize(msg)\n",
    "#     li1 = []\n",
    "#     for wd in msg :\n",
    "#         if wd.isalnum() :\n",
    "#             li1.append(wd)\n",
    "#     lis2=[]\n",
    "#     for wd in li1 :\n",
    "#         if wd not in stopwords.words(\"english\") and string.punctuation :\n",
    "#             lis2.append(wd)\n",
    "#     li1 = []\n",
    "#     for wd in lis2 :\n",
    "#         li1.append(ps.stem(wd))\n",
    "#     return \" \".join(li1)"
   ]
  },
  {
   "cell_type": "code",
   "execution_count": 268,
   "id": "369dc8f2",
   "metadata": {},
   "outputs": [
    {
     "data": {
      "text/plain": [
       "'nice to meet i loved you talk hi'"
      ]
     },
     "execution_count": 268,
     "metadata": {},
     "output_type": "execute_result"
    }
   ],
   "source": [
    "clean_msg(\"NIce To Meet You! i Loved you still_num,to,talk abou! hi 20... %% \")"
   ]
  },
  {
   "cell_type": "code",
   "execution_count": 269,
   "id": "6436acb4",
   "metadata": {},
   "outputs": [
    {
     "data": {
      "text/plain": [
       "'free entry in 2 a wkly comp to win fa cup final tkts 21st may text fa to 87121 to receive entry std txt s apply'"
      ]
     },
     "execution_count": 269,
     "metadata": {},
     "output_type": "execute_result"
    }
   ],
   "source": [
    "clean_msg(df[\"message\"][2])"
   ]
  },
  {
   "cell_type": "code",
   "execution_count": 270,
   "id": "af4fc8ef",
   "metadata": {},
   "outputs": [
    {
     "name": "stderr",
     "output_type": "stream",
     "text": [
      "C:\\Users\\Rakesh\\AppData\\Local\\Temp\\ipykernel_2548\\3691710335.py:1: SettingWithCopyWarning: \n",
      "A value is trying to be set on a copy of a slice from a DataFrame.\n",
      "Try using .loc[row_indexer,col_indexer] = value instead\n",
      "\n",
      "See the caveats in the documentation: https://pandas.pydata.org/pandas-docs/stable/user_guide/indexing.html#returning-a-view-versus-a-copy\n",
      "  df[\"clear_msg\"] = df.message.apply(clean_msg)\n"
     ]
    }
   ],
   "source": [
    "df[\"clear_msg\"] = df.message.apply(clean_msg)"
   ]
  },
  {
   "cell_type": "code",
   "execution_count": 271,
   "id": "ef4cb30f",
   "metadata": {},
   "outputs": [
    {
     "data": {
      "text/html": [
       "<div>\n",
       "<style scoped>\n",
       "    .dataframe tbody tr th:only-of-type {\n",
       "        vertical-align: middle;\n",
       "    }\n",
       "\n",
       "    .dataframe tbody tr th {\n",
       "        vertical-align: top;\n",
       "    }\n",
       "\n",
       "    .dataframe thead th {\n",
       "        text-align: right;\n",
       "    }\n",
       "</style>\n",
       "<table border=\"1\" class=\"dataframe\">\n",
       "  <thead>\n",
       "    <tr style=\"text-align: right;\">\n",
       "      <th></th>\n",
       "      <th>label</th>\n",
       "      <th>message</th>\n",
       "      <th>char_len</th>\n",
       "      <th>word_len</th>\n",
       "      <th>sen_len</th>\n",
       "      <th>clear_msg</th>\n",
       "    </tr>\n",
       "  </thead>\n",
       "  <tbody>\n",
       "    <tr>\n",
       "      <th>0</th>\n",
       "      <td>0</td>\n",
       "      <td>Go until jurong point, crazy.. Available only ...</td>\n",
       "      <td>111</td>\n",
       "      <td>20</td>\n",
       "      <td>9</td>\n",
       "      <td>go until jurong available only in bugis n grea...</td>\n",
       "    </tr>\n",
       "    <tr>\n",
       "      <th>1</th>\n",
       "      <td>0</td>\n",
       "      <td>Ok lar... Joking wif u oni...</td>\n",
       "      <td>29</td>\n",
       "      <td>6</td>\n",
       "      <td>7</td>\n",
       "      <td>ok joking wif u</td>\n",
       "    </tr>\n",
       "    <tr>\n",
       "      <th>2</th>\n",
       "      <td>1</td>\n",
       "      <td>Free entry in 2 a wkly comp to win FA Cup fina...</td>\n",
       "      <td>155</td>\n",
       "      <td>28</td>\n",
       "      <td>2</td>\n",
       "      <td>free entry in 2 a wkly comp to win fa cup fina...</td>\n",
       "    </tr>\n",
       "    <tr>\n",
       "      <th>3</th>\n",
       "      <td>0</td>\n",
       "      <td>U dun say so early hor... U c already then say...</td>\n",
       "      <td>49</td>\n",
       "      <td>11</td>\n",
       "      <td>7</td>\n",
       "      <td>u dun say so early u c already then</td>\n",
       "    </tr>\n",
       "    <tr>\n",
       "      <th>4</th>\n",
       "      <td>0</td>\n",
       "      <td>Nah I don't think he goes to usf, he lives aro...</td>\n",
       "      <td>61</td>\n",
       "      <td>13</td>\n",
       "      <td>1</td>\n",
       "      <td>nah i t think he goes to he lives around here</td>\n",
       "    </tr>\n",
       "    <tr>\n",
       "      <th>...</th>\n",
       "      <td>...</td>\n",
       "      <td>...</td>\n",
       "      <td>...</td>\n",
       "      <td>...</td>\n",
       "      <td>...</td>\n",
       "      <td>...</td>\n",
       "    </tr>\n",
       "    <tr>\n",
       "      <th>5567</th>\n",
       "      <td>1</td>\n",
       "      <td>This is the 2nd time we have tried 2 contact u...</td>\n",
       "      <td>160</td>\n",
       "      <td>30</td>\n",
       "      <td>5</td>\n",
       "      <td>this is the 2nd time we have tried 2 contact u...</td>\n",
       "    </tr>\n",
       "    <tr>\n",
       "      <th>5568</th>\n",
       "      <td>0</td>\n",
       "      <td>Will ü b going to esplanade fr home?</td>\n",
       "      <td>36</td>\n",
       "      <td>8</td>\n",
       "      <td>1</td>\n",
       "      <td>will ü b going to esplanade fr</td>\n",
       "    </tr>\n",
       "    <tr>\n",
       "      <th>5569</th>\n",
       "      <td>0</td>\n",
       "      <td>Pity, * was in mood for that. So...any other s...</td>\n",
       "      <td>57</td>\n",
       "      <td>10</td>\n",
       "      <td>5</td>\n",
       "      <td>was in mood for any other</td>\n",
       "    </tr>\n",
       "    <tr>\n",
       "      <th>5570</th>\n",
       "      <td>0</td>\n",
       "      <td>The guy did some bitching but I acted like i'd...</td>\n",
       "      <td>125</td>\n",
       "      <td>26</td>\n",
       "      <td>1</td>\n",
       "      <td>the guy did some bitching but i acted like d b...</td>\n",
       "    </tr>\n",
       "    <tr>\n",
       "      <th>5571</th>\n",
       "      <td>0</td>\n",
       "      <td>Rofl. Its true to its name</td>\n",
       "      <td>26</td>\n",
       "      <td>6</td>\n",
       "      <td>2</td>\n",
       "      <td>its true to its</td>\n",
       "    </tr>\n",
       "  </tbody>\n",
       "</table>\n",
       "<p>5169 rows × 6 columns</p>\n",
       "</div>"
      ],
      "text/plain": [
       "      label                                            message  char_len  \\\n",
       "0         0  Go until jurong point, crazy.. Available only ...       111   \n",
       "1         0                      Ok lar... Joking wif u oni...        29   \n",
       "2         1  Free entry in 2 a wkly comp to win FA Cup fina...       155   \n",
       "3         0  U dun say so early hor... U c already then say...        49   \n",
       "4         0  Nah I don't think he goes to usf, he lives aro...        61   \n",
       "...     ...                                                ...       ...   \n",
       "5567      1  This is the 2nd time we have tried 2 contact u...       160   \n",
       "5568      0               Will ü b going to esplanade fr home?        36   \n",
       "5569      0  Pity, * was in mood for that. So...any other s...        57   \n",
       "5570      0  The guy did some bitching but I acted like i'd...       125   \n",
       "5571      0                         Rofl. Its true to its name        26   \n",
       "\n",
       "      word_len  sen_len                                          clear_msg  \n",
       "0           20        9  go until jurong available only in bugis n grea...  \n",
       "1            6        7                                    ok joking wif u  \n",
       "2           28        2  free entry in 2 a wkly comp to win fa cup fina...  \n",
       "3           11        7                u dun say so early u c already then  \n",
       "4           13        1      nah i t think he goes to he lives around here  \n",
       "...        ...      ...                                                ...  \n",
       "5567        30        5  this is the 2nd time we have tried 2 contact u...  \n",
       "5568         8        1                     will ü b going to esplanade fr  \n",
       "5569        10        5                          was in mood for any other  \n",
       "5570        26        1  the guy did some bitching but i acted like d b...  \n",
       "5571         6        2                                    its true to its  \n",
       "\n",
       "[5169 rows x 6 columns]"
      ]
     },
     "execution_count": 271,
     "metadata": {},
     "output_type": "execute_result"
    }
   ],
   "source": [
    "df"
   ]
  },
  {
   "cell_type": "code",
   "execution_count": 272,
   "id": "cb7cf620",
   "metadata": {},
   "outputs": [],
   "source": [
    "# from wordcloud import WordCloud"
   ]
  },
  {
   "cell_type": "code",
   "execution_count": 273,
   "id": "df17c073",
   "metadata": {},
   "outputs": [],
   "source": [
    "# wc = WordCloud(width=1000,height=1000,min_font_size=10,background_color=\"white\")"
   ]
  },
  {
   "cell_type": "code",
   "execution_count": 274,
   "id": "84fe4c65",
   "metadata": {},
   "outputs": [],
   "source": [
    "# fre_wd = wc.generate(df.clear_msg.str.cat(sep=\" \"))"
   ]
  },
  {
   "cell_type": "code",
   "execution_count": 275,
   "id": "b5da84b5",
   "metadata": {},
   "outputs": [],
   "source": [
    "# plt.figure(figsize=(8,8))\n",
    "# plt.imshow(fre_wd)"
   ]
  },
  {
   "cell_type": "code",
   "execution_count": 276,
   "id": "8d8d7c56",
   "metadata": {},
   "outputs": [],
   "source": [
    "# tot_ham_list=[]\n",
    "# for msg in df[df.label == 1][\"clear_msg\"].tolist() :\n",
    "#     for wd in msg.split() :\n",
    "#         tot_ham_list.append(wd)"
   ]
  },
  {
   "cell_type": "code",
   "execution_count": 277,
   "id": "f73bfe01",
   "metadata": {},
   "outputs": [],
   "source": [
    "# len(tot_ham_list)"
   ]
  },
  {
   "cell_type": "code",
   "execution_count": 278,
   "id": "673980bb",
   "metadata": {},
   "outputs": [],
   "source": [
    "# from collections import Counter"
   ]
  },
  {
   "cell_type": "code",
   "execution_count": 279,
   "id": "62bb1192",
   "metadata": {},
   "outputs": [],
   "source": [
    "# Counter(tot_ham_list).most_common(20)"
   ]
  },
  {
   "cell_type": "code",
   "execution_count": 280,
   "id": "3008f6aa",
   "metadata": {},
   "outputs": [],
   "source": [
    "# ddf = pd.DataFrame(Counter(tot_ham_list).most_common(20))\n",
    "# ddf"
   ]
  },
  {
   "cell_type": "code",
   "execution_count": 281,
   "id": "ef6821ad",
   "metadata": {},
   "outputs": [],
   "source": [
    "from sklearn.feature_extraction.text import CountVectorizer,TfidfVectorizer"
   ]
  },
  {
   "cell_type": "code",
   "execution_count": 282,
   "id": "90ea2bdd",
   "metadata": {},
   "outputs": [],
   "source": [
    "cv = CountVectorizer(max_features=5000)\n",
    "# tfidf = TfidfVectorizer()"
   ]
  },
  {
   "cell_type": "code",
   "execution_count": null,
   "id": "134c632d",
   "metadata": {},
   "outputs": [],
   "source": []
  },
  {
   "cell_type": "code",
   "execution_count": 284,
   "id": "a0dd474e",
   "metadata": {},
   "outputs": [
    {
     "data": {
      "text/html": [
       "<div>\n",
       "<style scoped>\n",
       "    .dataframe tbody tr th:only-of-type {\n",
       "        vertical-align: middle;\n",
       "    }\n",
       "\n",
       "    .dataframe tbody tr th {\n",
       "        vertical-align: top;\n",
       "    }\n",
       "\n",
       "    .dataframe thead th {\n",
       "        text-align: right;\n",
       "    }\n",
       "</style>\n",
       "<table border=\"1\" class=\"dataframe\">\n",
       "  <thead>\n",
       "    <tr style=\"text-align: right;\">\n",
       "      <th></th>\n",
       "      <th>label</th>\n",
       "      <th>message</th>\n",
       "      <th>char_len</th>\n",
       "      <th>word_len</th>\n",
       "      <th>sen_len</th>\n",
       "      <th>clear_msg</th>\n",
       "    </tr>\n",
       "  </thead>\n",
       "  <tbody>\n",
       "    <tr>\n",
       "      <th>3140</th>\n",
       "      <td>0</td>\n",
       "      <td>Is ur lecture over?</td>\n",
       "      <td>19</td>\n",
       "      <td>4</td>\n",
       "      <td>1</td>\n",
       "      <td>is ur lecture</td>\n",
       "    </tr>\n",
       "  </tbody>\n",
       "</table>\n",
       "</div>"
      ],
      "text/plain": [
       "      label              message  char_len  word_len  sen_len      clear_msg\n",
       "3140      0  Is ur lecture over?        19         4        1  is ur lecture"
      ]
     },
     "execution_count": 284,
     "metadata": {},
     "output_type": "execute_result"
    }
   ],
   "source": [
    "df.sample()"
   ]
  },
  {
   "cell_type": "code",
   "execution_count": 285,
   "id": "a42f49d6",
   "metadata": {},
   "outputs": [
    {
     "data": {
      "text/plain": [
       "(5169,)"
      ]
     },
     "execution_count": 285,
     "metadata": {},
     "output_type": "execute_result"
    }
   ],
   "source": [
    "# [\"soem\", \"sews\"]\n",
    "df.clear_msg.values.shape"
   ]
  },
  {
   "cell_type": "code",
   "execution_count": 286,
   "id": "6ba9514b",
   "metadata": {},
   "outputs": [],
   "source": [
    "x_cv = cv.fit_transform(df.clear_msg).toarray()\n",
    "# x_tfidf = tfidf.fit_transform(df.clear_msg).toarray()"
   ]
  },
  {
   "cell_type": "code",
   "execution_count": 287,
   "id": "b97a8fab",
   "metadata": {},
   "outputs": [
    {
     "name": "stderr",
     "output_type": "stream",
     "text": [
      "C:\\Users\\Rakesh\\anaconda3\\lib\\site-packages\\sklearn\\utils\\deprecation.py:87: FutureWarning: Function get_feature_names is deprecated; get_feature_names is deprecated in 1.0 and will be removed in 1.2. Please use get_feature_names_out instead.\n",
      "  warnings.warn(msg, category=FutureWarning)\n"
     ]
    },
    {
     "data": {
      "text/plain": [
       "['00',\n",
       " '000',\n",
       " '008704050406',\n",
       " '0121',\n",
       " '01223585236',\n",
       " '01223585334',\n",
       " '0125698789',\n",
       " '02',\n",
       " '0207',\n",
       " '02073162414',\n",
       " '02085076972',\n",
       " '021',\n",
       " '03',\n",
       " '04',\n",
       " '05',\n",
       " '050703',\n",
       " '0578',\n",
       " '07046744435',\n",
       " '07090298926',\n",
       " '07099833605',\n",
       " '07123456789',\n",
       " '0721072',\n",
       " '07732584351',\n",
       " '07734396839',\n",
       " '07742676969',\n",
       " '07753741225',\n",
       " '0776xxxxxxx',\n",
       " '077xxx',\n",
       " '07801543489',\n",
       " '07808',\n",
       " '07808247860',\n",
       " '07808726822',\n",
       " '07815296484',\n",
       " '07880867867',\n",
       " '07973788240',\n",
       " '07xxxxxxxxx',\n",
       " '0800',\n",
       " '08000407165',\n",
       " '08000776320',\n",
       " '08000839402',\n",
       " '08000930705',\n",
       " '08000938767',\n",
       " '08001950382',\n",
       " '08002888812',\n",
       " '08002986906',\n",
       " '08002988890',\n",
       " '08006344447',\n",
       " '0808',\n",
       " '08081263000',\n",
       " '08081560665',\n",
       " '0825',\n",
       " '0844',\n",
       " '08448350055',\n",
       " '08448714184',\n",
       " '0845',\n",
       " '08452810071',\n",
       " '08452810073',\n",
       " '0870',\n",
       " '08700621170150p',\n",
       " '08701237397',\n",
       " '08701417012',\n",
       " '08701417012150p',\n",
       " '0870241182716',\n",
       " '08702490080',\n",
       " '08702840625',\n",
       " '0870737910216yrs',\n",
       " '08707500020',\n",
       " '08707509020',\n",
       " '08708800282',\n",
       " '08709501522',\n",
       " '087104711148',\n",
       " '08712101358',\n",
       " '08712103738',\n",
       " '08712300220',\n",
       " '08712317606',\n",
       " '08712400602450p',\n",
       " '08712402050',\n",
       " '08712402578',\n",
       " '08712402779',\n",
       " '08712402902',\n",
       " '08712402972',\n",
       " '08712404000',\n",
       " '08712460324',\n",
       " '08712466669',\n",
       " '08714712379',\n",
       " '08714712388',\n",
       " '08714712394',\n",
       " '08714712412',\n",
       " '08715203028',\n",
       " '08715203649',\n",
       " '08715203652',\n",
       " '08715203656',\n",
       " '08715203677',\n",
       " '08715203685',\n",
       " '08715203694',\n",
       " '08715500022',\n",
       " '08717507382',\n",
       " '08717509990',\n",
       " '08717895698',\n",
       " '08718720201',\n",
       " '08718726970',\n",
       " '08718726971',\n",
       " '08718726978',\n",
       " '087187272008',\n",
       " '08718730555',\n",
       " '08718730666',\n",
       " '08718738001',\n",
       " '08718738002',\n",
       " '08719180219',\n",
       " '08719180248',\n",
       " '08719181259',\n",
       " '08719899217',\n",
       " '08719899229',\n",
       " '08719899230',\n",
       " '09041940223',\n",
       " '09050000332',\n",
       " '09050000460',\n",
       " '09050001295',\n",
       " '09050001808',\n",
       " '09050002311',\n",
       " '09050003091',\n",
       " '09050090044',\n",
       " '09053750005',\n",
       " '09056242159',\n",
       " '09058091854',\n",
       " '09058091870',\n",
       " '09058094454',\n",
       " '09058094455',\n",
       " '09058094507',\n",
       " '09058094565',\n",
       " '09058094583',\n",
       " '09058095107',\n",
       " '09058095201',\n",
       " '09058097189',\n",
       " '09058097218',\n",
       " '09058099801',\n",
       " '09061104276',\n",
       " '09061104283',\n",
       " '09061209465',\n",
       " '09061213237',\n",
       " '09061221061',\n",
       " '09061221066',\n",
       " '09061743386',\n",
       " '09061743806',\n",
       " '09061743810',\n",
       " '09061743811',\n",
       " '09061744553',\n",
       " '09061749602',\n",
       " '09061790121',\n",
       " '09061790125',\n",
       " '09061790126',\n",
       " '09063440451',\n",
       " '09063442151',\n",
       " '09063458130',\n",
       " '09064012103',\n",
       " '09064015307',\n",
       " '09064017295',\n",
       " '09064017305',\n",
       " '09064019014',\n",
       " '09064019788',\n",
       " '09065394514',\n",
       " '09065394973',\n",
       " '09066350750',\n",
       " '09066358152',\n",
       " '09066358361',\n",
       " '09066362206',\n",
       " '09066362220',\n",
       " '09066362231',\n",
       " '09066364311',\n",
       " '09066364349',\n",
       " '09066368327',\n",
       " '09066368753',\n",
       " '09066380611',\n",
       " '09066382422',\n",
       " '09066612661',\n",
       " '09066649731from',\n",
       " '09066660100',\n",
       " '09071512432',\n",
       " '09071512433',\n",
       " '09071517866',\n",
       " '09077818151',\n",
       " '09090204448',\n",
       " '09090900040',\n",
       " '09094100151',\n",
       " '09094646631',\n",
       " '09094646899',\n",
       " '09095350301',\n",
       " '09096102316',\n",
       " '09099725823',\n",
       " '09099726395',\n",
       " '09099726429',\n",
       " '09099726481',\n",
       " '09099726553',\n",
       " '09111032124',\n",
       " '09701213186',\n",
       " '0quit',\n",
       " '10',\n",
       " '100',\n",
       " '1000',\n",
       " '1000call',\n",
       " '1000s',\n",
       " '1013',\n",
       " '1030',\n",
       " '10am',\n",
       " '10k',\n",
       " '10p',\n",
       " '10th',\n",
       " '11',\n",
       " '1120',\n",
       " '1131',\n",
       " '1146',\n",
       " '116',\n",
       " '11mths',\n",
       " '11pm',\n",
       " '12',\n",
       " '1205',\n",
       " '120p',\n",
       " '121',\n",
       " '1225',\n",
       " '123',\n",
       " '125',\n",
       " '1250',\n",
       " '125gift',\n",
       " '128',\n",
       " '12hours',\n",
       " '12hrs',\n",
       " '12mths',\n",
       " '1327',\n",
       " '14',\n",
       " '140',\n",
       " '145',\n",
       " '1450',\n",
       " '15',\n",
       " '150',\n",
       " '1500',\n",
       " '150p',\n",
       " '150pm',\n",
       " '150ppm',\n",
       " '150ppmsg',\n",
       " '150pw',\n",
       " '153',\n",
       " '15541',\n",
       " '15pm',\n",
       " '16',\n",
       " '165',\n",
       " '169',\n",
       " '177',\n",
       " '18',\n",
       " '180',\n",
       " '18yrs',\n",
       " '195',\n",
       " '1956669',\n",
       " '1cup',\n",
       " '1da',\n",
       " '1er',\n",
       " '1hr',\n",
       " '1im',\n",
       " '1mega',\n",
       " '1million',\n",
       " '1pm',\n",
       " '1st',\n",
       " '1st4terms',\n",
       " '1tulsi',\n",
       " '1yf',\n",
       " '20',\n",
       " '200',\n",
       " '2000',\n",
       " '2003',\n",
       " '2004',\n",
       " '2006',\n",
       " '2007',\n",
       " '200p',\n",
       " '2025050',\n",
       " '20p',\n",
       " '21',\n",
       " '21st',\n",
       " '22',\n",
       " '220cm2',\n",
       " '24',\n",
       " '24hrs',\n",
       " '24th',\n",
       " '25',\n",
       " '250',\n",
       " '250k',\n",
       " '25p',\n",
       " '2667',\n",
       " '26th',\n",
       " '28',\n",
       " '2814032',\n",
       " '28th',\n",
       " '2b',\n",
       " '2c',\n",
       " '2channel',\n",
       " '2day',\n",
       " '2end',\n",
       " '2ez',\n",
       " '2find',\n",
       " '2geva',\n",
       " '2go',\n",
       " '2gthr',\n",
       " '2hook',\n",
       " '2i',\n",
       " '2lands',\n",
       " '2marrow',\n",
       " '2moro',\n",
       " '2morow',\n",
       " '2morro',\n",
       " '2morrow',\n",
       " '2mro',\n",
       " '2mrw',\n",
       " '2mwen',\n",
       " '2nd',\n",
       " '2nhite',\n",
       " '2nights',\n",
       " '2nite',\n",
       " '2optout',\n",
       " '2p',\n",
       " '2price',\n",
       " '2px',\n",
       " '2rcv',\n",
       " '2stop',\n",
       " '2stoptxt',\n",
       " '2u',\n",
       " '2watershd',\n",
       " '2waxsto',\n",
       " '2wks',\n",
       " '2wt',\n",
       " '2years',\n",
       " '2yr',\n",
       " '30',\n",
       " '300',\n",
       " '3000',\n",
       " '300603',\n",
       " '3030',\n",
       " '30ish',\n",
       " '30pm',\n",
       " '30s',\n",
       " '30th',\n",
       " '31',\n",
       " '3100',\n",
       " '32000',\n",
       " '3230',\n",
       " '326',\n",
       " '350',\n",
       " '3510i',\n",
       " '3650',\n",
       " '36504',\n",
       " '3680',\n",
       " '373',\n",
       " '3750',\n",
       " '38',\n",
       " '3d',\n",
       " '3days',\n",
       " '3g',\n",
       " '3gbp',\n",
       " '3hrs',\n",
       " '3lions',\n",
       " '3lp',\n",
       " '3miles',\n",
       " '3mins',\n",
       " '3mobile',\n",
       " '3optical',\n",
       " '3pound',\n",
       " '3qxj9',\n",
       " '3rd',\n",
       " '3uz',\n",
       " '40',\n",
       " '400',\n",
       " '4041',\n",
       " '40411',\n",
       " '40533',\n",
       " '40gb',\n",
       " '41685',\n",
       " '41782',\n",
       " '42049',\n",
       " '4217',\n",
       " '42478',\n",
       " '42810',\n",
       " '430',\n",
       " '434',\n",
       " '44',\n",
       " '440',\n",
       " '447797706009',\n",
       " '447801259231',\n",
       " '449050000301',\n",
       " '449071512431',\n",
       " '45',\n",
       " '450',\n",
       " '450p',\n",
       " '450ppw',\n",
       " '45239',\n",
       " '47',\n",
       " '4742',\n",
       " '47per',\n",
       " '48',\n",
       " '4882',\n",
       " '48922',\n",
       " '49557',\n",
       " '4a',\n",
       " '4d',\n",
       " '4eva',\n",
       " '4few',\n",
       " '4fil',\n",
       " '4get',\n",
       " '4give',\n",
       " '4goten',\n",
       " '4mths',\n",
       " '4my',\n",
       " '4th',\n",
       " '4the',\n",
       " '4u',\n",
       " '4utxt',\n",
       " '4w',\n",
       " '4ward',\n",
       " '4wrd',\n",
       " '4xx26',\n",
       " '4years',\n",
       " '50',\n",
       " '500',\n",
       " '5000',\n",
       " '505060',\n",
       " '50p',\n",
       " '50pm',\n",
       " '50ppm',\n",
       " '515',\n",
       " '5226',\n",
       " '523',\n",
       " '528',\n",
       " '530',\n",
       " '54',\n",
       " '542',\n",
       " '545',\n",
       " '5digital',\n",
       " '5min',\n",
       " '5mls',\n",
       " '5p',\n",
       " '5pm',\n",
       " '5th',\n",
       " '5wb',\n",
       " '5wkg',\n",
       " '5wq',\n",
       " '5years',\n",
       " '600',\n",
       " '6031',\n",
       " '60p',\n",
       " '61200',\n",
       " '61610',\n",
       " '62220cncl',\n",
       " '6230',\n",
       " '630',\n",
       " '65',\n",
       " '6669',\n",
       " '67441233',\n",
       " '69200',\n",
       " '69669',\n",
       " '69696',\n",
       " '69698',\n",
       " '69888',\n",
       " '69969',\n",
       " '69988',\n",
       " '6hl',\n",
       " '6hrs',\n",
       " '6missed',\n",
       " '6months',\n",
       " '6ph',\n",
       " '6pm',\n",
       " '6th',\n",
       " '6zf',\n",
       " '700',\n",
       " '7250',\n",
       " '731',\n",
       " '74355',\n",
       " '750',\n",
       " '7548',\n",
       " '75max',\n",
       " '762',\n",
       " '7634',\n",
       " '7684',\n",
       " '78',\n",
       " '786',\n",
       " '79',\n",
       " '7am',\n",
       " '7mp',\n",
       " '7pm',\n",
       " '7th',\n",
       " '7zs',\n",
       " '800',\n",
       " '80062',\n",
       " '8007',\n",
       " '80082',\n",
       " '80086',\n",
       " '80160',\n",
       " '80182',\n",
       " '8027',\n",
       " '80488',\n",
       " '8077',\n",
       " '80878',\n",
       " '81010',\n",
       " '81151',\n",
       " '81303',\n",
       " '82242',\n",
       " '83039',\n",
       " '83110',\n",
       " '83118',\n",
       " '83338',\n",
       " '83355',\n",
       " '83383',\n",
       " '83600',\n",
       " '84025',\n",
       " '84122',\n",
       " '84128',\n",
       " '84199',\n",
       " '85',\n",
       " '85023',\n",
       " '85069',\n",
       " '85222',\n",
       " '85233',\n",
       " '8552',\n",
       " '85555',\n",
       " '86021',\n",
       " '861',\n",
       " '86688',\n",
       " '86888',\n",
       " '87066',\n",
       " '87077',\n",
       " '87121',\n",
       " '87131',\n",
       " '8714714',\n",
       " '87239',\n",
       " '88039',\n",
       " '88066',\n",
       " '88222',\n",
       " '88600',\n",
       " '88800',\n",
       " '8883',\n",
       " '88877',\n",
       " '88888',\n",
       " '89034',\n",
       " '89070',\n",
       " '89080',\n",
       " '89545',\n",
       " '89555',\n",
       " '89938',\n",
       " '8ball',\n",
       " '8lb',\n",
       " '8th',\n",
       " '8wp',\n",
       " '900',\n",
       " '9061100010',\n",
       " '910',\n",
       " '930',\n",
       " '946',\n",
       " '9755',\n",
       " '9758',\n",
       " '98321561',\n",
       " '9am',\n",
       " '9ja',\n",
       " '9pm',\n",
       " '9th',\n",
       " '9yt',\n",
       " '____',\n",
       " 'aa',\n",
       " 'aah',\n",
       " 'aaniye',\n",
       " 'aaooooright',\n",
       " 'abdomen',\n",
       " 'abi',\n",
       " 'ability',\n",
       " 'abj',\n",
       " 'able',\n",
       " 'about',\n",
       " 'aboutas',\n",
       " 'above',\n",
       " 'abroad',\n",
       " 'absolutely',\n",
       " 'absolutly',\n",
       " 'abt',\n",
       " 'abta',\n",
       " 'abusers',\n",
       " 'ac',\n",
       " 'academic',\n",
       " 'acc',\n",
       " 'accenture',\n",
       " 'accept',\n",
       " 'access',\n",
       " 'accidant',\n",
       " 'accident',\n",
       " 'accidentally',\n",
       " 'accommodation',\n",
       " 'accommodationvouchers',\n",
       " 'accordin',\n",
       " 'account',\n",
       " 'accounting',\n",
       " 'accounts',\n",
       " 'ache',\n",
       " 'achieve',\n",
       " 'acknowledgement',\n",
       " 'across',\n",
       " 'act',\n",
       " 'acted',\n",
       " 'acting',\n",
       " 'action',\n",
       " 'activate',\n",
       " 'actual',\n",
       " 'actually',\n",
       " 'ad',\n",
       " 'adam',\n",
       " 'add',\n",
       " 'added',\n",
       " 'addicted',\n",
       " 'addie',\n",
       " 'address',\n",
       " 'admin',\n",
       " 'admirer',\n",
       " 'adore',\n",
       " 'adoring',\n",
       " 'ads',\n",
       " 'adult',\n",
       " 'advice',\n",
       " 'advise',\n",
       " 'affairs',\n",
       " 'afraid',\n",
       " 'aft',\n",
       " 'after',\n",
       " 'afternoon',\n",
       " 'aftr',\n",
       " 'ag',\n",
       " 'again',\n",
       " 'against',\n",
       " 'agalla',\n",
       " 'age',\n",
       " 'age16',\n",
       " 'ages',\n",
       " 'ago',\n",
       " 'ah',\n",
       " 'ahead',\n",
       " 'ahmad',\n",
       " 'aight',\n",
       " 'aint',\n",
       " 'air',\n",
       " 'airport',\n",
       " 'airtel',\n",
       " 'aiya',\n",
       " 'aiyah',\n",
       " 'aiyar',\n",
       " 'aiyo',\n",
       " 'aka',\n",
       " 'al',\n",
       " 'alex',\n",
       " 'alfie',\n",
       " 'ali',\n",
       " 'all',\n",
       " 'allow',\n",
       " 'allowed',\n",
       " 'almost',\n",
       " 'alone',\n",
       " 'along',\n",
       " 'already',\n",
       " 'alright',\n",
       " 'alrite',\n",
       " 'also',\n",
       " 'although',\n",
       " 'always',\n",
       " 'alwys',\n",
       " 'am',\n",
       " 'amazing',\n",
       " 'american',\n",
       " 'among',\n",
       " 'amount',\n",
       " 'an',\n",
       " 'and',\n",
       " 'andros',\n",
       " 'angry',\n",
       " 'anniversary',\n",
       " 'announcement',\n",
       " 'annoying',\n",
       " 'another',\n",
       " 'ans',\n",
       " 'ansr',\n",
       " 'answer',\n",
       " 'answering',\n",
       " 'answers',\n",
       " 'anti',\n",
       " 'any',\n",
       " 'anybody',\n",
       " 'anyone',\n",
       " 'anythin',\n",
       " 'anything',\n",
       " 'anytime',\n",
       " 'anyway',\n",
       " 'anyways',\n",
       " 'anywhere',\n",
       " 'apart',\n",
       " 'apartment',\n",
       " 'apo',\n",
       " 'app',\n",
       " 'apparently',\n",
       " 'applebees',\n",
       " 'application',\n",
       " 'apply',\n",
       " 'appointment',\n",
       " 'appreciate',\n",
       " 'approx',\n",
       " 'apps',\n",
       " 'appt',\n",
       " 'april',\n",
       " 'arcade',\n",
       " 'ard',\n",
       " 'are',\n",
       " 'area',\n",
       " 'arent',\n",
       " 'argh',\n",
       " 'argue',\n",
       " 'argument',\n",
       " 'armand',\n",
       " 'arms',\n",
       " 'around',\n",
       " 'arrange',\n",
       " 'arrested',\n",
       " 'arrive',\n",
       " 'arsenal',\n",
       " 'art',\n",
       " 'arts',\n",
       " 'arun',\n",
       " 'as',\n",
       " 'asap',\n",
       " 'ask',\n",
       " 'askd',\n",
       " 'asked',\n",
       " 'askin',\n",
       " 'asking',\n",
       " 'asks',\n",
       " 'asleep',\n",
       " 'ass',\n",
       " 'assume',\n",
       " 'at',\n",
       " 'ate',\n",
       " 'atlast',\n",
       " 'attached',\n",
       " 'attempt',\n",
       " 'attend',\n",
       " 'auction',\n",
       " 'audition',\n",
       " 'aunt',\n",
       " 'aunts',\n",
       " 'auto',\n",
       " 'av',\n",
       " 'available',\n",
       " 'avatar',\n",
       " 'ave',\n",
       " 'avent',\n",
       " 'avoid',\n",
       " 'avoiding',\n",
       " 'await',\n",
       " 'awaiting',\n",
       " 'awake',\n",
       " 'award',\n",
       " 'awarded',\n",
       " 'away',\n",
       " 'awesome',\n",
       " 'aww',\n",
       " 'b4',\n",
       " 'ba',\n",
       " 'babe',\n",
       " 'babes',\n",
       " 'baby',\n",
       " 'back',\n",
       " 'bad',\n",
       " 'bag',\n",
       " 'bak',\n",
       " 'balance',\n",
       " 'bank',\n",
       " 'banks',\n",
       " 'bar',\n",
       " 'barely',\n",
       " 'basic',\n",
       " 'basically',\n",
       " 'bat',\n",
       " 'bath',\n",
       " 'bathe',\n",
       " 'bathing',\n",
       " 'battery',\n",
       " 'bb',\n",
       " 'bc',\n",
       " 'bcoz',\n",
       " 'bday',\n",
       " 'be',\n",
       " 'beautiful',\n",
       " 'beauty',\n",
       " 'bec',\n",
       " 'because',\n",
       " 'become',\n",
       " 'becomes',\n",
       " 'becoz',\n",
       " 'bed',\n",
       " 'bedroom',\n",
       " 'been',\n",
       " 'beer',\n",
       " 'befor',\n",
       " 'before',\n",
       " 'beg',\n",
       " 'begging',\n",
       " 'begin',\n",
       " 'behave',\n",
       " 'behind',\n",
       " 'bein',\n",
       " 'being',\n",
       " 'believe',\n",
       " 'belive',\n",
       " 'bell',\n",
       " 'belly',\n",
       " 'belovd',\n",
       " 'beloved',\n",
       " 'ben',\n",
       " 'best',\n",
       " 'bet',\n",
       " 'better',\n",
       " 'between',\n",
       " 'beyond',\n",
       " 'bf',\n",
       " 'bid',\n",
       " 'bids',\n",
       " 'big',\n",
       " 'bigger',\n",
       " 'biggest',\n",
       " 'bill',\n",
       " 'billed',\n",
       " 'billing',\n",
       " 'billion',\n",
       " 'bills',\n",
       " 'billy',\n",
       " 'bilo',\n",
       " 'bimbo',\n",
       " 'bin',\n",
       " 'bird',\n",
       " 'birds',\n",
       " 'birla',\n",
       " 'birth',\n",
       " 'birthdate',\n",
       " 'birthday',\n",
       " 'bishan',\n",
       " 'bit',\n",
       " 'bitch',\n",
       " 'bite',\n",
       " 'biz',\n",
       " 'bk',\n",
       " 'black',\n",
       " 'blackberry',\n",
       " 'blah',\n",
       " 'blame',\n",
       " 'blank',\n",
       " 'blanket',\n",
       " 'blankets',\n",
       " 'bless',\n",
       " 'blessed',\n",
       " 'blessing',\n",
       " 'blessings',\n",
       " 'blind',\n",
       " 'block',\n",
       " 'blocked',\n",
       " 'blogging',\n",
       " 'bloke',\n",
       " 'bloo',\n",
       " 'blood',\n",
       " 'bloody',\n",
       " 'bloomberg',\n",
       " 'blow',\n",
       " 'blowing',\n",
       " 'blown',\n",
       " 'blu',\n",
       " 'blue',\n",
       " 'bluetooth',\n",
       " 'bluetoothhdset',\n",
       " 'bluff',\n",
       " 'blur',\n",
       " 'bluray',\n",
       " 'bmw',\n",
       " 'board',\n",
       " 'boat',\n",
       " 'boatin',\n",
       " 'body',\n",
       " 'boggy',\n",
       " 'bold',\n",
       " 'bone',\n",
       " 'bonus',\n",
       " 'boo',\n",
       " 'book',\n",
       " 'booked',\n",
       " 'booking',\n",
       " 'boost',\n",
       " 'booty',\n",
       " 'bootydelious',\n",
       " 'bored',\n",
       " 'borin',\n",
       " 'boring',\n",
       " 'boss',\n",
       " 'boston',\n",
       " 'both',\n",
       " 'bother',\n",
       " 'bottle',\n",
       " 'bottom',\n",
       " 'bought',\n",
       " 'bout',\n",
       " 'bowl',\n",
       " 'box',\n",
       " 'box326',\n",
       " 'box39822',\n",
       " 'boy',\n",
       " 'boys',\n",
       " 'boytoy',\n",
       " 'brand',\n",
       " 'brdget',\n",
       " 'bread',\n",
       " 'break',\n",
       " 'breaker',\n",
       " 'breakfast',\n",
       " 'breakin',\n",
       " 'breaking',\n",
       " 'breaks',\n",
       " 'breath',\n",
       " 'breathe',\n",
       " 'breathe1',\n",
       " 'breathing',\n",
       " 'breezy',\n",
       " 'bribe',\n",
       " 'bridge',\n",
       " 'bridgwater',\n",
       " 'brief',\n",
       " 'bright',\n",
       " 'brighten',\n",
       " 'brilliant',\n",
       " 'brin',\n",
       " 'bring',\n",
       " 'bringing',\n",
       " 'brings',\n",
       " 'brisk',\n",
       " 'brison',\n",
       " 'bristol',\n",
       " 'british',\n",
       " 'bro',\n",
       " 'broad',\n",
       " 'broadband',\n",
       " 'broke',\n",
       " 'broken',\n",
       " 'brolly',\n",
       " 'bros',\n",
       " 'broth',\n",
       " 'brothas',\n",
       " 'brother',\n",
       " 'brothers',\n",
       " 'brought',\n",
       " 'brownie',\n",
       " 'brownies',\n",
       " 'browse',\n",
       " 'browser',\n",
       " 'browsin',\n",
       " 'bruce',\n",
       " 'bslvyl',\n",
       " 'bsn',\n",
       " 'bsnl',\n",
       " 'bstfrnd',\n",
       " 'bt',\n",
       " 'btw',\n",
       " 'btwn',\n",
       " 'bucks',\n",
       " 'bud',\n",
       " 'budget',\n",
       " 'buen',\n",
       " 'buff',\n",
       " 'buffet',\n",
       " 'bugis',\n",
       " 'build',\n",
       " 'building',\n",
       " 'built',\n",
       " 'bulbs',\n",
       " 'bullshit',\n",
       " 'bunch',\n",
       " 'bundle',\n",
       " 'bunkers',\n",
       " 'buns',\n",
       " 'burden',\n",
       " 'burger',\n",
       " 'burgundy',\n",
       " 'burning',\n",
       " 'burns',\n",
       " 'burnt',\n",
       " 'bus',\n",
       " 'buses',\n",
       " 'business',\n",
       " 'busty',\n",
       " 'busy',\n",
       " 'but',\n",
       " 'butt',\n",
       " 'buttheres',\n",
       " 'butting',\n",
       " 'buttons',\n",
       " 'buy',\n",
       " 'buyer',\n",
       " 'buying',\n",
       " 'buz',\n",
       " ...]"
      ]
     },
     "execution_count": 287,
     "metadata": {},
     "output_type": "execute_result"
    }
   ],
   "source": [
    "cv.get_feature_names()"
   ]
  },
  {
   "cell_type": "code",
   "execution_count": 288,
   "id": "3a9d959a",
   "metadata": {},
   "outputs": [
    {
     "data": {
      "text/plain": [
       "array([[0, 0, 0, ..., 0, 0, 0],\n",
       "       [0, 0, 0, ..., 0, 0, 0],\n",
       "       [0, 0, 0, ..., 0, 0, 0],\n",
       "       ...,\n",
       "       [0, 0, 0, ..., 0, 0, 0],\n",
       "       [0, 0, 0, ..., 0, 0, 0],\n",
       "       [0, 0, 0, ..., 0, 0, 0]], dtype=int64)"
      ]
     },
     "execution_count": 288,
     "metadata": {},
     "output_type": "execute_result"
    }
   ],
   "source": [
    "x_cv"
   ]
  },
  {
   "cell_type": "code",
   "execution_count": 289,
   "id": "afc8b253",
   "metadata": {},
   "outputs": [
    {
     "data": {
      "text/plain": [
       "(5169, 5000)"
      ]
     },
     "execution_count": 289,
     "metadata": {},
     "output_type": "execute_result"
    }
   ],
   "source": [
    "x_cv.shape"
   ]
  },
  {
   "cell_type": "code",
   "execution_count": 290,
   "id": "9ee516f6",
   "metadata": {},
   "outputs": [
    {
     "data": {
      "text/plain": [
       "(5169, 5000)"
      ]
     },
     "execution_count": 290,
     "metadata": {},
     "output_type": "execute_result"
    }
   ],
   "source": [
    "x_cv.shape"
   ]
  },
  {
   "cell_type": "code",
   "execution_count": 291,
   "id": "c0a17a55",
   "metadata": {},
   "outputs": [
    {
     "data": {
      "text/html": [
       "<div>\n",
       "<style scoped>\n",
       "    .dataframe tbody tr th:only-of-type {\n",
       "        vertical-align: middle;\n",
       "    }\n",
       "\n",
       "    .dataframe tbody tr th {\n",
       "        vertical-align: top;\n",
       "    }\n",
       "\n",
       "    .dataframe thead th {\n",
       "        text-align: right;\n",
       "    }\n",
       "</style>\n",
       "<table border=\"1\" class=\"dataframe\">\n",
       "  <thead>\n",
       "    <tr style=\"text-align: right;\">\n",
       "      <th></th>\n",
       "      <th>label</th>\n",
       "      <th>message</th>\n",
       "      <th>char_len</th>\n",
       "      <th>word_len</th>\n",
       "      <th>sen_len</th>\n",
       "      <th>clear_msg</th>\n",
       "    </tr>\n",
       "  </thead>\n",
       "  <tbody>\n",
       "    <tr>\n",
       "      <th>1066</th>\n",
       "      <td>0</td>\n",
       "      <td>No my mum went 2 dentist.</td>\n",
       "      <td>25</td>\n",
       "      <td>6</td>\n",
       "      <td>2</td>\n",
       "      <td>no my mum went 2</td>\n",
       "    </tr>\n",
       "  </tbody>\n",
       "</table>\n",
       "</div>"
      ],
      "text/plain": [
       "      label                    message  char_len  word_len  sen_len  \\\n",
       "1066      0  No my mum went 2 dentist.        25         6        2   \n",
       "\n",
       "             clear_msg  \n",
       "1066  no my mum went 2  "
      ]
     },
     "execution_count": 291,
     "metadata": {},
     "output_type": "execute_result"
    }
   ],
   "source": [
    "df.sample()"
   ]
  },
  {
   "cell_type": "code",
   "execution_count": 292,
   "id": "9baca840",
   "metadata": {},
   "outputs": [],
   "source": [
    "y = df.label.values"
   ]
  },
  {
   "cell_type": "code",
   "execution_count": 293,
   "id": "8c808f6a",
   "metadata": {},
   "outputs": [
    {
     "data": {
      "text/plain": [
       "array([0, 0, 1, ..., 0, 0, 0])"
      ]
     },
     "execution_count": 293,
     "metadata": {},
     "output_type": "execute_result"
    }
   ],
   "source": [
    "y"
   ]
  },
  {
   "cell_type": "code",
   "execution_count": 294,
   "id": "50e25371",
   "metadata": {},
   "outputs": [
    {
     "data": {
      "text/plain": [
       "(5169,)"
      ]
     },
     "execution_count": 294,
     "metadata": {},
     "output_type": "execute_result"
    }
   ],
   "source": [
    "y.shape"
   ]
  },
  {
   "cell_type": "code",
   "execution_count": 295,
   "id": "91569584",
   "metadata": {},
   "outputs": [
    {
     "data": {
      "text/plain": [
       "(5169, 5000)"
      ]
     },
     "execution_count": 295,
     "metadata": {},
     "output_type": "execute_result"
    }
   ],
   "source": [
    "x_cv.shape"
   ]
  },
  {
   "cell_type": "code",
   "execution_count": 296,
   "id": "1660b8bd",
   "metadata": {},
   "outputs": [],
   "source": [
    "x_cv_train,x_cv_test,y_cv_train,y_cv_test = train_test_split(x_cv,y,test_size=0.2, stratify=y)\n",
    "# x_tfidf_train,x_tfidf_test,y_tfidf_train,y_tfidf_test = train_test_split(x_tfidf,y,test_size=0.2)"
   ]
  },
  {
   "cell_type": "code",
   "execution_count": null,
   "id": "037c910d",
   "metadata": {},
   "outputs": [],
   "source": []
  },
  {
   "cell_type": "code",
   "execution_count": 297,
   "id": "7ef22b6f",
   "metadata": {},
   "outputs": [
    {
     "data": {
      "text/plain": [
       "((4135, 5000), (1034, 5000), (4135,), (1034,))"
      ]
     },
     "execution_count": 297,
     "metadata": {},
     "output_type": "execute_result"
    }
   ],
   "source": [
    "x_cv_train.shape, x_cv_test.shape, y_cv_train.shape, y_cv_test.shape "
   ]
  },
  {
   "cell_type": "code",
   "execution_count": 298,
   "id": "9f46f7da",
   "metadata": {},
   "outputs": [],
   "source": [
    "from sklearn.naive_bayes import MultinomialNB,GaussianNB,BernoulliNB"
   ]
  },
  {
   "cell_type": "code",
   "execution_count": 299,
   "id": "c7bdb8e4",
   "metadata": {},
   "outputs": [],
   "source": [
    "Mnb = MultinomialNB()\n",
    "Gnb = GaussianNB()\n",
    "Bnb = BernoulliNB()"
   ]
  },
  {
   "cell_type": "code",
   "execution_count": 300,
   "id": "cd9b6531",
   "metadata": {},
   "outputs": [
    {
     "name": "stdout",
     "output_type": "stream",
     "text": [
      "[[890  13]\n",
      " [ 14 117]]\n",
      "0.9738878143133463\n",
      "0.9\n",
      "              precision    recall  f1-score   support\n",
      "\n",
      "           0       0.98      0.99      0.99       903\n",
      "           1       0.90      0.89      0.90       131\n",
      "\n",
      "    accuracy                           0.97      1034\n",
      "   macro avg       0.94      0.94      0.94      1034\n",
      "weighted avg       0.97      0.97      0.97      1034\n",
      "\n"
     ]
    }
   ],
   "source": [
    "Mnb.fit(x_cv_train,y_cv_train)\n",
    "pred_cv = Mnb.predict(x_cv_test)\n",
    "print(metrics.confusion_matrix(y_cv_test,pred_cv))\n",
    "print(metrics.accuracy_score(y_cv_test,pred_cv))\n",
    "print(metrics.precision_score(y_cv_test,pred_cv))\n",
    "print(metrics.classification_report(y_cv_test, pred_cv))"
   ]
  },
  {
   "cell_type": "code",
   "execution_count": 301,
   "id": "d5402a14",
   "metadata": {},
   "outputs": [],
   "source": [
    "# FP => model-flase acc => true ( spam )"
   ]
  },
  {
   "cell_type": "code",
   "execution_count": 302,
   "id": "4ae1ae5f",
   "metadata": {},
   "outputs": [
    {
     "name": "stdout",
     "output_type": "stream",
     "text": [
      "[[721 182]\n",
      " [ 19 112]]\n",
      "0.8056092843326886\n",
      "0.38095238095238093\n",
      "              precision    recall  f1-score   support\n",
      "\n",
      "           0       0.97      0.80      0.88       903\n",
      "           1       0.38      0.85      0.53       131\n",
      "\n",
      "    accuracy                           0.81      1034\n",
      "   macro avg       0.68      0.83      0.70      1034\n",
      "weighted avg       0.90      0.81      0.83      1034\n",
      "\n"
     ]
    }
   ],
   "source": [
    "Gnb.fit(x_cv_train,y_cv_train)\n",
    "pred_cv = Gnb.predict(x_cv_test)\n",
    "print(metrics.confusion_matrix(y_cv_test,pred_cv))\n",
    "print(metrics.accuracy_score(y_cv_test,pred_cv))\n",
    "print(metrics.precision_score(y_cv_test,pred_cv))\n",
    "print(metrics.classification_report(y_cv_test, pred_cv))"
   ]
  },
  {
   "cell_type": "code",
   "execution_count": 303,
   "id": "99ee4ec8",
   "metadata": {},
   "outputs": [
    {
     "name": "stdout",
     "output_type": "stream",
     "text": [
      "[[900   3]\n",
      " [ 18 113]]\n",
      "0.9796905222437138\n",
      "0.9741379310344828\n",
      "              precision    recall  f1-score   support\n",
      "\n",
      "           0       0.98      1.00      0.99       903\n",
      "           1       0.97      0.86      0.91       131\n",
      "\n",
      "    accuracy                           0.98      1034\n",
      "   macro avg       0.98      0.93      0.95      1034\n",
      "weighted avg       0.98      0.98      0.98      1034\n",
      "\n"
     ]
    }
   ],
   "source": [
    "Bnb.fit(x_cv_train,y_cv_train)\n",
    "pred_cv = Bnb.predict(x_cv_test)\n",
    "print(metrics.confusion_matrix(y_cv_test,pred_cv))\n",
    "print(metrics.accuracy_score(y_cv_test,pred_cv))\n",
    "print(metrics.precision_score(y_cv_test,pred_cv))\n",
    "print(metrics.classification_report(y_cv_test, pred_cv))"
   ]
  },
  {
   "cell_type": "code",
   "execution_count": 304,
   "id": "1e836411",
   "metadata": {},
   "outputs": [],
   "source": [
    "# Mnb.fit(x_tfidf_train,y_tfidf_train)\n",
    "# pred_tfidf = Mnb.predict(x_tfidf_test)\n",
    "# print(metrics.confusion_matrix(y_tfidf_test,pred_tfidf))\n",
    "# print(metrics.accuracy_score(y_tfidf_test,pred_tfidf))\n",
    "# print(metrics.precision_score(y_tfidf_test,pred_tfidf))"
   ]
  },
  {
   "cell_type": "code",
   "execution_count": 305,
   "id": "0b3f1f19",
   "metadata": {},
   "outputs": [],
   "source": [
    "# Gnb.fit(x_tfidf_train,y_tfidf_train)\n",
    "# pred_tfidf = Gnb.predict(x_tfidf_test)\n",
    "# print(metrics.confusion_matrix(y_tfidf_test,pred_tfidf))\n",
    "# print(metrics.accuracy_score(y_tfidf_test,pred_tfidf))\n",
    "# print(metrics.precision_score(y_tfidf_test,pred_tfidf))"
   ]
  },
  {
   "cell_type": "code",
   "execution_count": 306,
   "id": "e26b6aac",
   "metadata": {},
   "outputs": [],
   "source": [
    "# Bnb.fit(x_tfidf_train,y_tfidf_train)\n",
    "# pred_tfidf = Bnb.predict(x_tfidf_test)\n",
    "# print(metrics.confusion_matrix(y_tfidf_test,pred_tfidf))\n",
    "# print(metrics.accuracy_score(y_tfidf_test,pred_tfidf))\n",
    "# print(metrics.precision_score(y_tfidf_test,pred_tfidf))"
   ]
  },
  {
   "cell_type": "code",
   "execution_count": 307,
   "id": "70db670c",
   "metadata": {},
   "outputs": [],
   "source": [
    "# import pickle\n",
    "# with open(\"clean_msg.pkl\",\"wb\") as f :\n",
    "#     pickle.dump(clean_msg,f)"
   ]
  },
  {
   "cell_type": "code",
   "execution_count": 308,
   "id": "3251670c",
   "metadata": {},
   "outputs": [],
   "source": [
    "# with open(\"clean_msg.pkl\",\"rb\") as f1 :\n",
    "#     hi = pickle.load(f1)\n",
    "# #     print(hi(\"rakesh kumar hi hello how are you\"))\n",
    "#     print(hi(df[\"message\"][2]))"
   ]
  },
  {
   "cell_type": "code",
   "execution_count": 309,
   "id": "5d009043",
   "metadata": {},
   "outputs": [],
   "source": [
    "#'free entri 2 wkli comp win fa cup final tkt 21st may text fa 87121 receiv entri question std txt rate c appli 08452810075over18'"
   ]
  },
  {
   "cell_type": "code",
   "execution_count": 310,
   "id": "47f61dae",
   "metadata": {},
   "outputs": [],
   "source": [
    "# with open(\"mat_num.pkl\",\"wb\") as f :\n",
    "#     pickle.dump(tfidf,f)"
   ]
  },
  {
   "cell_type": "code",
   "execution_count": 311,
   "id": "73e7ea50",
   "metadata": {},
   "outputs": [],
   "source": [
    "# with open(\"model_spam_ham.pkl\",\"wb\") as f :\n",
    "#     pickle.dump(Mnb,f)"
   ]
  },
  {
   "cell_type": "code",
   "execution_count": 314,
   "id": "4e9f0352",
   "metadata": {},
   "outputs": [],
   "source": [
    "# pred_tfidf = Mnb.predict(x_tfidf_test)\n",
    "# print(metrics.confusion_matrix(y_tfidf_test,pred_tfidf))\n",
    "# print(metrics.accuracy_score(y_tfidf_test,pred_tfidf))\n",
    "# print(metrics.precision_score(y_tfidf_test,pred_tfidf))"
   ]
  },
  {
   "cell_type": "code",
   "execution_count": 316,
   "id": "1ae75088",
   "metadata": {},
   "outputs": [],
   "source": [
    "# pred_tfidf"
   ]
  },
  {
   "cell_type": "code",
   "execution_count": 317,
   "id": "136e333a",
   "metadata": {},
   "outputs": [],
   "source": [
    "# Mnb.predict\n"
   ]
  },
  {
   "cell_type": "code",
   "execution_count": 318,
   "id": "64a24224",
   "metadata": {},
   "outputs": [
    {
     "data": {
      "text/html": [
       "<div>\n",
       "<style scoped>\n",
       "    .dataframe tbody tr th:only-of-type {\n",
       "        vertical-align: middle;\n",
       "    }\n",
       "\n",
       "    .dataframe tbody tr th {\n",
       "        vertical-align: top;\n",
       "    }\n",
       "\n",
       "    .dataframe thead th {\n",
       "        text-align: right;\n",
       "    }\n",
       "</style>\n",
       "<table border=\"1\" class=\"dataframe\">\n",
       "  <thead>\n",
       "    <tr style=\"text-align: right;\">\n",
       "      <th></th>\n",
       "      <th>label</th>\n",
       "      <th>message</th>\n",
       "      <th>char_len</th>\n",
       "      <th>word_len</th>\n",
       "      <th>sen_len</th>\n",
       "      <th>clear_msg</th>\n",
       "    </tr>\n",
       "  </thead>\n",
       "  <tbody>\n",
       "    <tr>\n",
       "      <th>0</th>\n",
       "      <td>0</td>\n",
       "      <td>Go until jurong point, crazy.. Available only ...</td>\n",
       "      <td>111</td>\n",
       "      <td>20</td>\n",
       "      <td>9</td>\n",
       "      <td>go until jurong available only in bugis n grea...</td>\n",
       "    </tr>\n",
       "    <tr>\n",
       "      <th>1</th>\n",
       "      <td>0</td>\n",
       "      <td>Ok lar... Joking wif u oni...</td>\n",
       "      <td>29</td>\n",
       "      <td>6</td>\n",
       "      <td>7</td>\n",
       "      <td>ok joking wif u</td>\n",
       "    </tr>\n",
       "    <tr>\n",
       "      <th>2</th>\n",
       "      <td>1</td>\n",
       "      <td>Free entry in 2 a wkly comp to win FA Cup fina...</td>\n",
       "      <td>155</td>\n",
       "      <td>28</td>\n",
       "      <td>2</td>\n",
       "      <td>free entry in 2 a wkly comp to win fa cup fina...</td>\n",
       "    </tr>\n",
       "    <tr>\n",
       "      <th>3</th>\n",
       "      <td>0</td>\n",
       "      <td>U dun say so early hor... U c already then say...</td>\n",
       "      <td>49</td>\n",
       "      <td>11</td>\n",
       "      <td>7</td>\n",
       "      <td>u dun say so early u c already then</td>\n",
       "    </tr>\n",
       "    <tr>\n",
       "      <th>4</th>\n",
       "      <td>0</td>\n",
       "      <td>Nah I don't think he goes to usf, he lives aro...</td>\n",
       "      <td>61</td>\n",
       "      <td>13</td>\n",
       "      <td>1</td>\n",
       "      <td>nah i t think he goes to he lives around here</td>\n",
       "    </tr>\n",
       "  </tbody>\n",
       "</table>\n",
       "</div>"
      ],
      "text/plain": [
       "   label                                            message  char_len  \\\n",
       "0      0  Go until jurong point, crazy.. Available only ...       111   \n",
       "1      0                      Ok lar... Joking wif u oni...        29   \n",
       "2      1  Free entry in 2 a wkly comp to win FA Cup fina...       155   \n",
       "3      0  U dun say so early hor... U c already then say...        49   \n",
       "4      0  Nah I don't think he goes to usf, he lives aro...        61   \n",
       "\n",
       "   word_len  sen_len                                          clear_msg  \n",
       "0        20        9  go until jurong available only in bugis n grea...  \n",
       "1         6        7                                    ok joking wif u  \n",
       "2        28        2  free entry in 2 a wkly comp to win fa cup fina...  \n",
       "3        11        7                u dun say so early u c already then  \n",
       "4        13        1      nah i t think he goes to he lives around here  "
      ]
     },
     "execution_count": 318,
     "metadata": {},
     "output_type": "execute_result"
    }
   ],
   "source": [
    "df.head()"
   ]
  },
  {
   "cell_type": "code",
   "execution_count": 319,
   "id": "085cb27f",
   "metadata": {},
   "outputs": [],
   "source": [
    "def pred_spam_or_ham(text) : \n",
    "    clean_txt = clean_msg(text)\n",
    "    # print(clean_txt)\n",
    "    clean_text_vec =  cv.transform([clean_txt]).toarray()\n",
    "    y_clean_msg_pred =  Bnb.predict(clean_text_vec)[0]\n",
    "    return Lb.classes_[y_clean_msg_pred]"
   ]
  },
  {
   "cell_type": "code",
   "execution_count": 320,
   "id": "ec8395dc",
   "metadata": {},
   "outputs": [
    {
     "data": {
      "text/plain": [
       "'spam'"
      ]
     },
     "execution_count": 320,
     "metadata": {},
     "output_type": "execute_result"
    }
   ],
   "source": [
    "pred_spam_or_ham(\"free entri 2 wkli comp win fa cup final tkt \")"
   ]
  },
  {
   "cell_type": "code",
   "execution_count": 321,
   "id": "42023ddc",
   "metadata": {},
   "outputs": [
    {
     "data": {
      "text/plain": [
       "array(['Your next amazing xxx PICSFREE1 video will be sent to you enjoy! If one vid is not enough for 2day text back the keyword PICSFREE1 to get the next video.',\n",
       "       'Cashbin.co.uk (Get lots of cash this weekend!) www.cashbin.co.uk Dear Welcome to the weekend We have got our biggest and best EVER cash give away!! These..',\n",
       "       'CLAIRE here am havin borin time & am now alone U wanna cum over 2nite? Chat now 09099725823 hope 2 C U Luv CLAIRE xx Calls£1/minmoremobsEMSPOBox45PO139WA'],\n",
       "      dtype=object)"
      ]
     },
     "execution_count": 321,
     "metadata": {},
     "output_type": "execute_result"
    }
   ],
   "source": [
    "df[df['label'] == 1].sample(3)['message'].values"
   ]
  },
  {
   "cell_type": "code",
   "execution_count": 322,
   "id": "bdfdbe58",
   "metadata": {},
   "outputs": [
    {
     "name": "stdout",
     "output_type": "stream",
     "text": [
      "Enter Message : \n",
      "This Message :  : ham\n",
      "Enter Message : thank you\n",
      "This Message : thank you : ham\n",
      "Enter Message : quite\n"
     ]
    }
   ],
   "source": [
    "while True : \n",
    "    inp = input(\"Enter Message : \")\n",
    "    if inp == 'quite' or inp == 'x' or inp == 'break' : \n",
    "        break\n",
    "    print(f\"This Message : {inp} : {pred_spam_or_ham(inp)}\")"
   ]
  },
  {
   "cell_type": "code",
   "execution_count": null,
   "id": "ae0c9af8",
   "metadata": {},
   "outputs": [],
   "source": []
  }
 ],
 "metadata": {
  "kernelspec": {
   "display_name": "Python 3 (ipykernel)",
   "language": "python",
   "name": "python3"
  },
  "language_info": {
   "codemirror_mode": {
    "name": "ipython",
    "version": 3
   },
   "file_extension": ".py",
   "mimetype": "text/x-python",
   "name": "python",
   "nbconvert_exporter": "python",
   "pygments_lexer": "ipython3",
   "version": "3.9.7"
  }
 },
 "nbformat": 4,
 "nbformat_minor": 5
}
